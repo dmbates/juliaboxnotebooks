{
 "cells": [
  {
   "cell_type": "markdown",
   "metadata": {},
   "source": [
    "# MCMC for LMMs with a single vector-valued r.e. term\n",
    "\n",
    "Creating a Stan model for linear mixed models (LMMs) with time-varying covariates in the random-effects terms requires a model matrix approach.\n",
    "\n",
    "A simple example of a model with correlated random effects for slope and intercept is analyzed using both the [MixedModels package](https://github.com/dmbates/MixedModels.jl) and [Stan](http://mc-stan.org/) through the [Stan package](https://github.com/goedman/Stan.jl) for [Julia](http://julialang.org)\n",
    "\n",
    "First we install the MixedModels package"
   ]
  },
  {
   "cell_type": "code",
   "execution_count": 1,
   "metadata": {
    "collapsed": false
   },
   "outputs": [
    {
     "name": "stderr",
     "output_type": "stream",
     "text": [
      "INFO: Nothing to be done\n",
      "INFO: METADATA is out-of-date — you may not have the latest version of MixedModels\n",
      "INFO: Use `Pkg.update()` to get the latest versions of your packages\n"
     ]
    }
   ],
   "source": [
    "Pkg.add(\"MixedModels\")"
   ]
  },
  {
   "cell_type": "code",
   "execution_count": 2,
   "metadata": {
    "collapsed": false
   },
   "outputs": [
    {
     "name": "stdout",
     "output_type": "stream",
     "text": [
      "Environment variable JULIA_SVG_BROWSER not found.\n"
     ]
    }
   ],
   "source": [
    "using DataFrames,Stan,Mamba,RDatasets,MixedModels"
   ]
  },
  {
   "cell_type": "code",
   "execution_count": 3,
   "metadata": {
    "collapsed": false
   },
   "outputs": [
    {
     "data": {
      "text/html": [
       "<table class=\"data-frame\"><tr><th></th><th>Reaction</th><th>Days</th><th>Subject</th></tr><tr><th>1</th><td>249.56</td><td>0</td><td>308</td></tr><tr><th>2</th><td>258.7047</td><td>1</td><td>308</td></tr><tr><th>3</th><td>250.8006</td><td>2</td><td>308</td></tr><tr><th>4</th><td>321.4398</td><td>3</td><td>308</td></tr><tr><th>5</th><td>356.8519</td><td>4</td><td>308</td></tr><tr><th>6</th><td>414.6901</td><td>5</td><td>308</td></tr><tr><th>7</th><td>382.2038</td><td>6</td><td>308</td></tr><tr><th>8</th><td>290.1486</td><td>7</td><td>308</td></tr><tr><th>9</th><td>430.5853</td><td>8</td><td>308</td></tr><tr><th>10</th><td>466.3535</td><td>9</td><td>308</td></tr><tr><th>11</th><td>222.7339</td><td>0</td><td>309</td></tr><tr><th>12</th><td>205.2658</td><td>1</td><td>309</td></tr><tr><th>13</th><td>202.9778</td><td>2</td><td>309</td></tr><tr><th>14</th><td>204.707</td><td>3</td><td>309</td></tr><tr><th>15</th><td>207.7161</td><td>4</td><td>309</td></tr><tr><th>16</th><td>215.9618</td><td>5</td><td>309</td></tr><tr><th>17</th><td>213.6303</td><td>6</td><td>309</td></tr><tr><th>18</th><td>217.7272</td><td>7</td><td>309</td></tr><tr><th>19</th><td>224.2957</td><td>8</td><td>309</td></tr><tr><th>20</th><td>237.3142</td><td>9</td><td>309</td></tr><tr><th>21</th><td>199.0539</td><td>0</td><td>310</td></tr><tr><th>22</th><td>194.3322</td><td>1</td><td>310</td></tr><tr><th>23</th><td>234.32</td><td>2</td><td>310</td></tr><tr><th>24</th><td>232.8416</td><td>3</td><td>310</td></tr><tr><th>25</th><td>229.3074</td><td>4</td><td>310</td></tr><tr><th>26</th><td>220.4579</td><td>5</td><td>310</td></tr><tr><th>27</th><td>235.4208</td><td>6</td><td>310</td></tr><tr><th>28</th><td>255.7511</td><td>7</td><td>310</td></tr><tr><th>29</th><td>261.0125</td><td>8</td><td>310</td></tr><tr><th>30</th><td>247.5153</td><td>9</td><td>310</td></tr><tr><th>&vellip;</th><td>&vellip;</td><td>&vellip;</td><td>&vellip;</td></tr></table>"
      ],
      "text/plain": [
       "180x3 DataFrame\n",
       "| Row | Reaction | Days | Subject |\n",
       "|-----|----------|------|---------|\n",
       "| 1   | 249.56   | 0    | \"308\"   |\n",
       "| 2   | 258.705  | 1    | \"308\"   |\n",
       "| 3   | 250.801  | 2    | \"308\"   |\n",
       "| 4   | 321.44   | 3    | \"308\"   |\n",
       "| 5   | 356.852  | 4    | \"308\"   |\n",
       "| 6   | 414.69   | 5    | \"308\"   |\n",
       "| 7   | 382.204  | 6    | \"308\"   |\n",
       "| 8   | 290.149  | 7    | \"308\"   |\n",
       "| 9   | 430.585  | 8    | \"308\"   |\n",
       "| 10  | 466.353  | 9    | \"308\"   |\n",
       "| 11  | 222.734  | 0    | \"309\"   |\n",
       "⋮\n",
       "| 169 | 350.781  | 8    | \"371\"   |\n",
       "| 170 | 369.469  | 9    | \"371\"   |\n",
       "| 171 | 269.412  | 0    | \"372\"   |\n",
       "| 172 | 273.474  | 1    | \"372\"   |\n",
       "| 173 | 297.597  | 2    | \"372\"   |\n",
       "| 174 | 310.632  | 3    | \"372\"   |\n",
       "| 175 | 287.173  | 4    | \"372\"   |\n",
       "| 176 | 329.608  | 5    | \"372\"   |\n",
       "| 177 | 334.482  | 6    | \"372\"   |\n",
       "| 178 | 343.22   | 7    | \"372\"   |\n",
       "| 179 | 369.142  | 8    | \"372\"   |\n",
       "| 180 | 364.124  | 9    | \"372\"   |"
      ]
     },
     "execution_count": 3,
     "metadata": {},
     "output_type": "execute_result"
    }
   ],
   "source": [
    "const slp = dataset(\"lme4\",\"sleepstudy\")"
   ]
  },
  {
   "cell_type": "markdown",
   "metadata": {},
   "source": [
    "Start with a model for vector-valued random effects for a single grouping factor.  In the `MixedModels` package this would be fit as"
   ]
  },
  {
   "cell_type": "code",
   "execution_count": 4,
   "metadata": {
    "collapsed": false
   },
   "outputs": [
    {
     "data": {
      "text/plain": [
       "Linear mixed model fit by maximum likelihood\n",
       "Formula: Reaction ~ 1 + Days + ((1 + Days) | Subject)\n",
       "\n",
       " logLik: -875.969672, deviance: 1751.939344\n",
       "\n",
       " Variance components:\n",
       "                Variance    Std.Dev.  Corr.\n",
       " Subject      565.516376   23.780588\n",
       "               32.682265    5.716840   0.08\n",
       " Residual     654.940901   25.591813\n",
       " Number of obs: 180; levels of grouping factors: 18\n",
       "\n",
       "  Fixed-effects parameters:\n",
       "             Estimate Std.Error z value\n",
       "(Intercept)   251.405   6.63228 37.9063\n",
       "Days          10.4673   1.50224 6.96779\n"
      ]
     },
     "execution_count": 4,
     "metadata": {},
     "output_type": "execute_result"
    }
   ],
   "source": [
    "m1 = fit(lmm(Reaction ~ 1 + Days + (1+Days|Subject), slp))"
   ]
  },
  {
   "cell_type": "markdown",
   "metadata": {},
   "source": [
    "It is very fast to fit such a model"
   ]
  },
  {
   "cell_type": "code",
   "execution_count": 5,
   "metadata": {
    "collapsed": false
   },
   "outputs": [
    {
     "name": "stdout",
     "output_type": "stream",
     "text": [
      "elapsed time: 0.008625299 seconds (1784296 bytes allocated)\n"
     ]
    }
   ],
   "source": [
    "@time fit(lmm(Reaction ~ 1 + Days + (1+Days|Subject), slp));"
   ]
  },
  {
   "cell_type": "markdown",
   "metadata": {},
   "source": [
    "## Creating a stan model"
   ]
  },
  {
   "cell_type": "markdown",
   "metadata": {},
   "source": [
    "I have been trying to go through the Stan _User's Guide and Reference Manual_ to create a stan formulation.  It is a bit tricky in that this model has random effects for time-varying covariates, `Days` in this case, and you need to form a dot product of the random-effects vector for the m'th `Subject` and a particular row of the random-effects model matrix.\n",
    "\n",
    "As described in [Bates et al. (2014)](http://arxiv.org/abs/1406.5823) we describe how we use sparse matrices in the [lme4 package](https://github.com/lme4/lme4) for `R` to \"expand\" the evaluation of $Z\\Lambda u$ across the random effects for each subject.  Matrices $Z$ and $\\Lambda$ are both sparse in that formulation.\n",
    "\n",
    "Here I am using a dense formulation of $Z$.  Suppose that `Zt` is a `J`x`N` matrix and `b` is a `J`x`M` matrix.  I want to create an `N` vector whose `n`th element is the dot product of the `n`th column of `Zt` and the `subj[n]`th column of `b`, but I haven't been able to work out how to do that. \n",
    "\n",
    "It would be straightforward if I knew how to access a column of a matrix.  I have looked throught likely sections of the manual but still don't know how to do that, other than running nested loops and indexing individual array elements, which seems kind of clunky.\n",
    "\n",
    "This is my latest attempt but it fails to compile, with an error message about the assignment in the loop at the end of the `transformed variables` section (i.e. the loop to assign `mu[n]`)"
   ]
  },
  {
   "cell_type": "code",
   "execution_count": 6,
   "metadata": {
    "collapsed": false
   },
   "outputs": [],
   "source": [
    "VectorOne = \"\"\"\n",
    "data {\n",
    "  int<lower=0>  N; // num observations\n",
    "  int<lower=1>  K; // length of fixed-effects vector\n",
    "  int<lower=1>  M; // num subjects\n",
    "  int<lower=1>  J; // length of individual vector-valued random effects\n",
    "  int<lower=1,upper=J> subj[N]; // subject indicator\n",
    "  matrix[N,K]   X; // model matrix for fixed-effects parameters\n",
    "  row_vector[J] Z[N]; // generator model matrix for random-effects\n",
    "  vector[N]     y; // response vector (reaction time)\n",
    "}\n",
    "\n",
    "parameters {\n",
    "  cholesky_factor_corr[J] L; // Cholesky factor of unconditional correlation of random effects\n",
    "  vector[J] tau;  // relative standard deviations of unconditional distribution of random effects\n",
    "  vector[J] u[M]; // spherical random effects\n",
    "  vector[K] beta; // fixed-effects\n",
    "  real<lower=0> sigma; // standard deviation of response given random effects\n",
    "}\n",
    "\n",
    "transformed parameters {\n",
    "  matrix[J,J] Lambda; \n",
    "  vector[J] b[M];\n",
    "  vector[N] muX;\n",
    "  vector[N] mu;\n",
    "  Lambda <- diag_pre_multiply(tau,L);\n",
    "  for (m in 1:M)\n",
    "    b[m] <-  Lambda * u[m];\n",
    "  muX <- X * beta;\n",
    "  for (n in 1:N)\n",
    "    mu[n] = muX[n] + Z[n] * b[subj[n]];\n",
    "}\n",
    "\n",
    "model {\n",
    "  tau ~ cauchy(0,2.5);\n",
    "  L ~ lkj_corr_cholesky(2);\n",
    "  for (m in 1:M)\n",
    "    as_vector(u[m]) ~ normal(0,sigma)\n",
    "  y ~ normal(mu, sigma)\n",
    "}\n",
    "\"\"\";"
   ]
  },
  {
   "cell_type": "code",
   "execution_count": 7,
   "metadata": {
    "collapsed": false
   },
   "outputs": [
    {
     "data": {
      "text/plain": [
       "2x180 Array{Float64,2}:\n",
       " 1.0  1.0  1.0  1.0  1.0  1.0  1.0  1.0  …  1.0  1.0  1.0  1.0  1.0  1.0  1.0\n",
       " 0.0  1.0  2.0  3.0  4.0  5.0  6.0  7.0     3.0  4.0  5.0  6.0  7.0  8.0  9.0"
      ]
     },
     "execution_count": 7,
     "metadata": {},
     "output_type": "execute_result"
    }
   ],
   "source": [
    "const Xt = vcat(ones(Float64,(1,180)),array(slp[:Days])')"
   ]
  },
  {
   "cell_type": "code",
   "execution_count": 8,
   "metadata": {
    "collapsed": false
   },
   "outputs": [
    {
     "data": {
      "text/plain": [
       "1-element Array{Dict{ASCIIString,Any},1}:\n",
       " [\"Z\"=>180x2 Array{Float64,2}:\n",
       " 1.0  0.0\n",
       " 1.0  1.0\n",
       " 1.0  2.0\n",
       " 1.0  3.0\n",
       " 1.0  4.0\n",
       " 1.0  5.0\n",
       " 1.0  6.0\n",
       " 1.0  7.0\n",
       " 1.0  8.0\n",
       " 1.0  9.0\n",
       " 1.0  0.0\n",
       " 1.0  1.0\n",
       " 1.0  2.0\n",
       " ⋮       \n",
       " 1.0  8.0\n",
       " 1.0  9.0\n",
       " 1.0  0.0\n",
       " 1.0  1.0\n",
       " 1.0  2.0\n",
       " 1.0  3.0\n",
       " 1.0  4.0\n",
       " 1.0  5.0\n",
       " 1.0  6.0\n",
       " 1.0  7.0\n",
       " 1.0  8.0\n",
       " 1.0  9.0,\"J\"=>2,\"M\"=>18,\"X\"=>180x2 Array{Float64,2}:\n",
       " 1.0  0.0\n",
       " 1.0  1.0\n",
       " 1.0  2.0\n",
       " 1.0  3.0\n",
       " 1.0  4.0\n",
       " 1.0  5.0\n",
       " 1.0  6.0\n",
       " 1.0  7.0\n",
       " 1.0  8.0\n",
       " 1.0  9.0\n",
       " 1.0  0.0\n",
       " 1.0  1.0\n",
       " 1.0  2.0\n",
       " ⋮       \n",
       " 1.0  8.0\n",
       " 1.0  9.0\n",
       " 1.0  0.0\n",
       " 1.0  1.0\n",
       " 1.0  2.0\n",
       " 1.0  3.0\n",
       " 1.0  4.0\n",
       " 1.0  5.0\n",
       " 1.0  6.0\n",
       " 1.0  7.0\n",
       " 1.0  8.0\n",
       " 1.0  9.0,\"N\"=>180,\"subj\"=>ASCIIString[\"308\",\"308\",\"308\",\"308\",\"308\",\"308\",\"308\",\"308\",\"308\",\"308\"  …  \"372\",\"372\",\"372\",\"372\",\"372\",\"372\",\"372\",\"372\",\"372\",\"372\"],\"K\"=>2,\"y\"=>[249.56,258.705,250.801,321.44,356.852,414.69,382.204,290.149,430.585,466.353  …  269.412,273.474,297.597,310.632,287.173,329.608,334.482,343.22,369.142,364.124]]"
      ]
     },
     "execution_count": 8,
     "metadata": {},
     "output_type": "execute_result"
    }
   ],
   "source": [
    "const sleepdata = [\n",
    "    @Compat.Dict(\"N\" => size(slp,1),\n",
    "    \"K\" => 2,\n",
    "    \"M\" => 18,\n",
    "    \"J\" => 2,\n",
    "    \"subj\" => array(slp[:Subject]),\n",
    "    \"y\" => array(slp[:Reaction]),\n",
    "    \"X\" => Xt',\n",
    "    \"Z\" => Xt')\n",
    "]"
   ]
  },
  {
   "cell_type": "code",
   "execution_count": 9,
   "metadata": {
    "collapsed": false
   },
   "outputs": [
    {
     "name": "stdout",
     "output_type": "stream",
     "text": [
      "\n",
      "File /home/juser/tmp/VectorOne.stan will be updated.\n",
      "\n"
     ]
    }
   ],
   "source": [
    "stanmodel = Stanmodel(name=\"VectorOne\", model=VectorOne);"
   ]
  },
  {
   "cell_type": "code",
   "execution_count": 10,
   "metadata": {
    "collapsed": false
   },
   "outputs": [
    {
     "name": "stdout",
     "output_type": "stream",
     "text": [
      "\n",
      "\n",
      "--- Translating Stan model to C++ code ---\n",
      "bin/stanc /home/juser/tmp/VectorOne.stan --o=/home/juser/tmp/VectorOne.cpp --no_main\n",
      "Model name=VectorOne_model\n",
      "Input file=/home/juser/tmp/VectorOne.stan\n",
      "Output file=/home/juser/tmp/VectorOne.cpp\n",
      "ErrorException(\"failed process: Process(`make /home/juser/tmp/VectorOne`, ProcessExited(2)) [2]\")\n"
     ]
    }
   ],
   "source": [
    "sim1 = stan(stanmodel, sleepdata)"
   ]
  }
 ],
 "metadata": {
  "kernelspec": {
   "display_name": "Julia 0.3.6",
   "language": "julia",
   "name": "julia 0.3"
  },
  "language_info": {
   "name": "julia",
   "version": "0.3.6"
  }
 },
 "nbformat": 4,
 "nbformat_minor": 0
}
