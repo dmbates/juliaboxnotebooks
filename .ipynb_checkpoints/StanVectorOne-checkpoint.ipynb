{
 "cells": [
  {
   "cell_type": "markdown",
   "metadata": {},
   "source": [
    "# MCMC for LMMs with a single vector-valued r.e. term\n",
    "\n",
    "Creating a Stan model for linear mixed models (LMMs) with time-varying covariates in the random-effects terms requires a model matrix approach.\n",
    "\n",
    "A simple example of a model with correlated random effects for slope and intercept is analyzed using both the [MixedModels package](https://github.com/dmbates/MixedModels.jl) and [Stan](http://mc-stan.org/) through the [Stan package](https://github.com/goedman/Stan.jl) for [Julia](http://julialang.org)\n",
    "\n",
    "First we install the MixedModels package"
   ]
  },
  {
   "cell_type": "code",
   "execution_count": 2,
   "metadata": {
    "collapsed": false
   },
   "outputs": [
    {
     "name": "stderr",
     "output_type": "stream",
     "text": [
      "INFO: Cloning cache of MixedModels from git://github.com/dmbates/MixedModels.jl.git\n",
      "INFO: Installing MixedModels v0.3.20\n",
      "INFO: Building NLopt\n",
      "INFO: Package database updated\n",
      "INFO: METADATA is out-of-date — you may not have the latest version of MixedModels\n",
      "INFO: Use `Pkg.update()` to get the latest versions of your packages\n"
     ]
    }
   ],
   "source": [
    "Pkg.add(\"MixedModels\")"
   ]
  },
  {
   "cell_type": "code",
   "execution_count": 3,
   "metadata": {
    "collapsed": false
   },
   "outputs": [],
   "source": [
    "using DataFrames,Stan,Mamba,RDatasets,MixedModels"
   ]
  },
  {
   "cell_type": "code",
   "execution_count": 4,
   "metadata": {
    "collapsed": false
   },
   "outputs": [
    {
     "data": {
      "text/html": [
       "<table class=\"data-frame\"><tr><th></th><th>Reaction</th><th>Days</th><th>Subject</th></tr><tr><th>1</th><td>249.56</td><td>0</td><td>308</td></tr><tr><th>2</th><td>258.7047</td><td>1</td><td>308</td></tr><tr><th>3</th><td>250.8006</td><td>2</td><td>308</td></tr><tr><th>4</th><td>321.4398</td><td>3</td><td>308</td></tr><tr><th>5</th><td>356.8519</td><td>4</td><td>308</td></tr><tr><th>6</th><td>414.6901</td><td>5</td><td>308</td></tr><tr><th>7</th><td>382.2038</td><td>6</td><td>308</td></tr><tr><th>8</th><td>290.1486</td><td>7</td><td>308</td></tr><tr><th>9</th><td>430.5853</td><td>8</td><td>308</td></tr><tr><th>10</th><td>466.3535</td><td>9</td><td>308</td></tr><tr><th>11</th><td>222.7339</td><td>0</td><td>309</td></tr><tr><th>12</th><td>205.2658</td><td>1</td><td>309</td></tr><tr><th>13</th><td>202.9778</td><td>2</td><td>309</td></tr><tr><th>14</th><td>204.707</td><td>3</td><td>309</td></tr><tr><th>15</th><td>207.7161</td><td>4</td><td>309</td></tr><tr><th>16</th><td>215.9618</td><td>5</td><td>309</td></tr><tr><th>17</th><td>213.6303</td><td>6</td><td>309</td></tr><tr><th>18</th><td>217.7272</td><td>7</td><td>309</td></tr><tr><th>19</th><td>224.2957</td><td>8</td><td>309</td></tr><tr><th>20</th><td>237.3142</td><td>9</td><td>309</td></tr><tr><th>21</th><td>199.0539</td><td>0</td><td>310</td></tr><tr><th>22</th><td>194.3322</td><td>1</td><td>310</td></tr><tr><th>23</th><td>234.32</td><td>2</td><td>310</td></tr><tr><th>24</th><td>232.8416</td><td>3</td><td>310</td></tr><tr><th>25</th><td>229.3074</td><td>4</td><td>310</td></tr><tr><th>26</th><td>220.4579</td><td>5</td><td>310</td></tr><tr><th>27</th><td>235.4208</td><td>6</td><td>310</td></tr><tr><th>28</th><td>255.7511</td><td>7</td><td>310</td></tr><tr><th>29</th><td>261.0125</td><td>8</td><td>310</td></tr><tr><th>30</th><td>247.5153</td><td>9</td><td>310</td></tr><tr><th>&vellip;</th><td>&vellip;</td><td>&vellip;</td><td>&vellip;</td></tr></table>"
      ],
      "text/plain": [
       "180x3 DataFrame\n",
       "| Row | Reaction | Days | Subject |\n",
       "|-----|----------|------|---------|\n",
       "| 1   | 249.56   | 0    | \"308\"   |\n",
       "| 2   | 258.705  | 1    | \"308\"   |\n",
       "| 3   | 250.801  | 2    | \"308\"   |\n",
       "| 4   | 321.44   | 3    | \"308\"   |\n",
       "| 5   | 356.852  | 4    | \"308\"   |\n",
       "| 6   | 414.69   | 5    | \"308\"   |\n",
       "| 7   | 382.204  | 6    | \"308\"   |\n",
       "| 8   | 290.149  | 7    | \"308\"   |\n",
       "| 9   | 430.585  | 8    | \"308\"   |\n",
       "| 10  | 466.353  | 9    | \"308\"   |\n",
       "| 11  | 222.734  | 0    | \"309\"   |\n",
       "⋮\n",
       "| 169 | 350.781  | 8    | \"371\"   |\n",
       "| 170 | 369.469  | 9    | \"371\"   |\n",
       "| 171 | 269.412  | 0    | \"372\"   |\n",
       "| 172 | 273.474  | 1    | \"372\"   |\n",
       "| 173 | 297.597  | 2    | \"372\"   |\n",
       "| 174 | 310.632  | 3    | \"372\"   |\n",
       "| 175 | 287.173  | 4    | \"372\"   |\n",
       "| 176 | 329.608  | 5    | \"372\"   |\n",
       "| 177 | 334.482  | 6    | \"372\"   |\n",
       "| 178 | 343.22   | 7    | \"372\"   |\n",
       "| 179 | 369.142  | 8    | \"372\"   |\n",
       "| 180 | 364.124  | 9    | \"372\"   |"
      ]
     },
     "execution_count": 4,
     "metadata": {},
     "output_type": "execute_result"
    }
   ],
   "source": [
    "const slp = dataset(\"lme4\",\"sleepstudy\")"
   ]
  },
  {
   "cell_type": "markdown",
   "metadata": {},
   "source": [
    "Start with a model for vector-valued random effects for a single grouping factor.  In the `MixedModels` package this would be fit as"
   ]
  },
  {
   "cell_type": "code",
   "execution_count": 5,
   "metadata": {
    "collapsed": false
   },
   "outputs": [
    {
     "data": {
      "text/plain": [
       "Linear mixed model fit by maximum likelihood\n",
       "Formula: Reaction ~ 1 + Days + ((1 + Days) | Subject)\n",
       "\n",
       " logLik: -875.969672, deviance: 1751.939344\n",
       "\n",
       " Variance components:\n",
       "                Variance    Std.Dev.  Corr.\n",
       " Subject      565.516376   23.780588\n",
       "               32.682265    5.716840   0.08\n",
       " Residual     654.940901   25.591813\n",
       " Number of obs: 180; levels of grouping factors: 18\n",
       "\n",
       "  Fixed-effects parameters:\n",
       "             Estimate Std.Error z value\n",
       "(Intercept)   251.405   6.63228 37.9063\n",
       "Days          10.4673   1.50224 6.96779\n"
      ]
     },
     "execution_count": 5,
     "metadata": {},
     "output_type": "execute_result"
    }
   ],
   "source": [
    "m1 = fit(lmm(Reaction ~ 1 + Days + (1+Days|Subject), slp))"
   ]
  },
  {
   "cell_type": "markdown",
   "metadata": {},
   "source": [
    "It is very fast to fit such a model"
   ]
  },
  {
   "cell_type": "code",
   "execution_count": 6,
   "metadata": {
    "collapsed": false
   },
   "outputs": [
    {
     "name": "stdout",
     "output_type": "stream",
     "text": [
      "elapsed time: 0.00881586 seconds (1784296 bytes allocated)\n"
     ]
    }
   ],
   "source": [
    "@time fit(lmm(Reaction ~ 1 + Days + (1+Days|Subject), slp));"
   ]
  },
  {
   "cell_type": "markdown",
   "metadata": {},
   "source": [
    "## Creating a stan model"
   ]
  },
  {
   "cell_type": "markdown",
   "metadata": {},
   "source": [
    "I have been trying to go through the Stan _User's Guide and Reference Manual_ to create a stan formulation.  It is a bit tricky in that this model has random effects for time-varying covariates, `Days` in this case, and you need to form a dot product of the random-effects vector for the m'th `Subject` and a particular row of the random-effects model matrix.\n",
    "\n",
    "As described in [Bates et al. (2014)](http://arxiv.org/abs/1406.5823) we describe how we use sparse matrices in the [lme4 package](https://github.com/lme4/lme4) for `R` to \"expand\" the evaluation of $Z\\Lambda u$ across the random effects for each subject.  Matrices $Z$ and $\\Lambda$ are both sparse in that formulation.\n",
    "\n",
    "Here I am using a dense formulation of $Z$.  Suppose that `Zt` is a `J`x`N` matrix and `b` is a `J`x`M` matrix.  I want to create an `N` vector whose `n`th element is the dot product of the `n`th column of `Zt` and the `subj[n]`th column of `b`, but I haven't been able to work out how to do that. \n",
    "\n",
    "It would be straightforward if I knew how to access a column of a matrix.  I have looked throught likely sections of the manual but still don't know how to do that, other than running nested loops and indexing individual array elements, which seems kind of clunky.\n",
    "\n",
    "This is my latest attempt but it fails to compile, with an error message about the assignment in the loop at the end of the `transformed variables` section (i.e. the loop to assign `mu[n]`)"
   ]
  },
  {
   "cell_type": "code",
   "execution_count": 15,
   "metadata": {
    "collapsed": false
   },
   "outputs": [],
   "source": [
    "VectorOne = \"\"\"\n",
    "data {\n",
    "  int<lower=0>  N; // num observations\n",
    "  int<lower=1>  K; // length of fixed-effects vector\n",
    "  int<lower=1>  M; // num subjects\n",
    "  int<lower=1>  J; // length of individual vector-valued random effects\n",
    "  int<lower=1,upper=M> subj[N]; // subject indicator\n",
    "  matrix[N,K]   X; // model matrix for fixed-effects parameters\n",
    "  row_vector[J] Z[N]; // generator model matrix for random-effects\n",
    "  vector[N]     y; // response vector (reaction time)\n",
    "}\n",
    "\n",
    "parameters {\n",
    "  cholesky_factor_corr[J] L; // Cholesky factor of unconditional correlation of random effects\n",
    "  vector[J] tau;  // relative standard deviations of unconditional distribution of random effects\n",
    "  vector[J] u[M]; // spherical random effects\n",
    "  vector[K] beta; // fixed-effects\n",
    "  real<lower=0> sigma; // standard deviation of response given random effects\n",
    "}\n",
    "\n",
    "transformed parameters {\n",
    "  matrix[J,J] Lambda; \n",
    "  vector[J] b[M];\n",
    "  vector[N] muX;\n",
    "  vector[N] mu;\n",
    "  Lambda <- diag_pre_multiply(tau,L);\n",
    "  for (m in 1:M)\n",
    "    b[m] <-  Lambda * u[m];\n",
    "  muX <- X * beta;\n",
    "  for (n in 1:N)\n",
    "    mu[n] <- muX[n] + Z[n] * b[subj[n]];\n",
    "}\n",
    "\n",
    "model {\n",
    "  tau ~ cauchy(0,2.5);\n",
    "  L ~ lkj_corr_cholesky(2);\n",
    "  for (m in 1:M)\n",
    "    u[m] ~ normal(0,sigma);\n",
    "  y ~ normal(mu, sigma);\n",
    "}\n",
    "\"\"\";"
   ]
  },
  {
   "cell_type": "code",
   "execution_count": 8,
   "metadata": {
    "collapsed": false
   },
   "outputs": [
    {
     "data": {
      "text/plain": [
       "2x180 Array{Float64,2}:\n",
       " 1.0  1.0  1.0  1.0  1.0  1.0  1.0  1.0  …  1.0  1.0  1.0  1.0  1.0  1.0  1.0\n",
       " 0.0  1.0  2.0  3.0  4.0  5.0  6.0  7.0     3.0  4.0  5.0  6.0  7.0  8.0  9.0"
      ]
     },
     "execution_count": 8,
     "metadata": {},
     "output_type": "execute_result"
    }
   ],
   "source": [
    "const Xt = vcat(ones(Float64,(1,180)),array(slp[:Days])')"
   ]
  },
  {
   "cell_type": "code",
   "execution_count": 18,
   "metadata": {
    "collapsed": false
   },
   "outputs": [
    {
     "name": "stderr",
     "output_type": "stream",
     "text": [
      "Warning: redefining constant sleepdata\n"
     ]
    },
    {
     "data": {
      "text/plain": [
       "1-element Array{Dict{ASCIIString,Any},1}:\n",
       " [\"Z\"=>180x2 Array{Float64,2}:\n",
       " 1.0  0.0\n",
       " 1.0  1.0\n",
       " 1.0  2.0\n",
       " 1.0  3.0\n",
       " 1.0  4.0\n",
       " 1.0  5.0\n",
       " 1.0  6.0\n",
       " 1.0  7.0\n",
       " 1.0  8.0\n",
       " 1.0  9.0\n",
       " 1.0  0.0\n",
       " 1.0  1.0\n",
       " 1.0  2.0\n",
       " ⋮       \n",
       " 1.0  8.0\n",
       " 1.0  9.0\n",
       " 1.0  0.0\n",
       " 1.0  1.0\n",
       " 1.0  2.0\n",
       " 1.0  3.0\n",
       " 1.0  4.0\n",
       " 1.0  5.0\n",
       " 1.0  6.0\n",
       " 1.0  7.0\n",
       " 1.0  8.0\n",
       " 1.0  9.0,\"J\"=>2,\"M\"=>18,\"X\"=>180x2 Array{Float64,2}:\n",
       " 1.0  0.0\n",
       " 1.0  1.0\n",
       " 1.0  2.0\n",
       " 1.0  3.0\n",
       " 1.0  4.0\n",
       " 1.0  5.0\n",
       " 1.0  6.0\n",
       " 1.0  7.0\n",
       " 1.0  8.0\n",
       " 1.0  9.0\n",
       " 1.0  0.0\n",
       " 1.0  1.0\n",
       " 1.0  2.0\n",
       " ⋮       \n",
       " 1.0  8.0\n",
       " 1.0  9.0\n",
       " 1.0  0.0\n",
       " 1.0  1.0\n",
       " 1.0  2.0\n",
       " 1.0  3.0\n",
       " 1.0  4.0\n",
       " 1.0  5.0\n",
       " 1.0  6.0\n",
       " 1.0  7.0\n",
       " 1.0  8.0\n",
       " 1.0  9.0,\"N\"=>180,\"subj\"=>Uint8[0x01,0x01,0x01,0x01,0x01,0x01,0x01,0x01,0x01,0x01  …  0x12,0x12,0x12,0x12,0x12,0x12,0x12,0x12,0x12,0x12],\"K\"=>2,\"y\"=>[249.56,258.705,250.801,321.44,356.852,414.69,382.204,290.149,430.585,466.353  …  269.412,273.474,297.597,310.632,287.173,329.608,334.482,343.22,369.142,364.124]]"
      ]
     },
     "execution_count": 18,
     "metadata": {},
     "output_type": "execute_result"
    }
   ],
   "source": [
    "const sleepdata = [\n",
    "    @Compat.Dict(\"N\" => size(slp,1),\n",
    "    \"K\" => 2,\n",
    "    \"M\" => 18,\n",
    "    \"J\" => 2,\n",
    "    \"subj\" => slp[:Subject].refs,\n",
    "    \"y\" => array(slp[:Reaction]),\n",
    "    \"X\" => Xt',\n",
    "    \"Z\" => Xt')\n",
    "]"
   ]
  },
  {
   "cell_type": "code",
   "execution_count": 16,
   "metadata": {
    "collapsed": false
   },
   "outputs": [
    {
     "name": "stdout",
     "output_type": "stream",
     "text": [
      "\n",
      "File /home/juser/notebooks/tmp/VectorOne.stan will be updated.\n",
      "\n"
     ]
    }
   ],
   "source": [
    "stanmodel = Stanmodel(name=\"VectorOne\", model=VectorOne);"
   ]
  },
  {
   "cell_type": "code",
   "execution_count": 19,
   "metadata": {
    "collapsed": false
   },
   "outputs": [
    {
     "name": "stdout",
     "output_type": "stream",
     "text": [
      "\n"
     ]
    },
    {
     "data": {
      "text/plain": [
       "Object of type \"Chains\"\n",
       "\n",
       "Iterations = 1:1000\n",
       "Thinning interval = 1\n",
       "Chains = 1,2,3,4\n",
       "Samples per chain = 1000\n",
       "\n",
       "1000x451x4 Array{Float64,3}:\n",
       "[:, :, 1] =\n",
       " -801.14   0.87633   0.124947  5.0  …  331.375  340.668  349.961  359.254\n",
       " -811.76   0.797055  0.124947  4.0     334.19   346.347  358.505  370.662\n",
       " -797.489  0.99847   0.124947  5.0     336.214  349.622  363.03   376.438\n",
       " -805.544  0.810194  0.124947  4.0     332.464  346.094  359.725  373.356\n",
       " -811.699  0.823447  0.124947  5.0     345.772  359.001  372.231  385.461\n",
       " -809.624  0.991667  0.124947  5.0  …  316.078  323.309  330.54   337.771\n",
       " -808.118  0.953611  0.124947  5.0     351.395  362.272  373.148  384.025\n",
       " -805.849  0.889564  0.124947  5.0     355.213  369.43   383.648  397.866\n",
       " -809.554  0.989689  0.124947  5.0     318.56   327.453  336.347  345.24 \n",
       " -807.124  0.877426  0.124947  6.0     321.988  330.475  338.962  347.45 \n",
       " -806.699  0.976803  0.124947  5.0  …  332.644  348.044  363.445  378.845\n",
       " -802.604  0.872626  0.124947  5.0     336.814  349.59   362.366  375.142\n",
       " -804.835  0.97911   0.124947  5.0     326.902  339.43   351.959  364.487\n",
       "    ⋮                               ⋱                               ⋮    \n",
       " -810.27   1.0       0.124947  5.0     320.014  330.898  341.781  352.664\n",
       " -811.019  0.890468  0.124947  5.0     350.589  365.402  380.215  395.028\n",
       " -808.418  0.980436  0.124947  5.0  …  316.63   327.709  338.788  349.867\n",
       " -813.537  0.936251  0.124947  4.0     344.86   358.847  372.834  386.821\n",
       " -809.766  0.932087  0.124947  5.0     328.994  340.219  351.444  362.67 \n",
       " -814.939  0.898787  0.124947  5.0     337.271  348.78   360.288  371.797\n",
       " -809.393  0.997052  0.124947  5.0     338.677  349.107  359.536  369.966\n",
       " -799.65   0.997361  0.124947  5.0  …  343.635  353.343  363.052  372.76 \n",
       " -810.518  0.872889  0.124947  6.0     342.755  356.784  370.813  384.841\n",
       " -802.431  0.990987  0.124947  6.0     330.443  341.7    352.957  364.214\n",
       " -800.497  0.598299  0.124947  5.0     335.629  350.965  366.301  381.637\n",
       " -810.968  0.916527  0.124947  5.0     331.971  347.764  363.558  379.352\n",
       "\n",
       "[:, :, 2] =\n",
       " -804.674  0.781977  0.106423  5.0  …  343.478  352.89   362.301  371.713\n",
       " -816.215  0.956208  0.106423  5.0     333.295  341.103  348.911  356.719\n",
       " -812.852  0.965509  0.106423  6.0     318.485  328.103  337.722  347.34 \n",
       " -818.221  0.836514  0.106423  6.0     335.371  347.499  359.626  371.754\n",
       " -825.779  0.94326   0.106423  6.0     349.613  361.711  373.808  385.906\n",
       " -823.735  0.89572   0.106423  6.0  …  313.029  321.96   330.891  339.822\n",
       " -816.125  0.999331  0.106423  6.0     326.252  335.448  344.645  353.842\n",
       " -809.656  0.955976  0.106423  6.0     318.498  333.924  349.35   364.775\n",
       " -816.383  0.976756  0.106423  6.0     304.052  313.332  322.612  331.892\n",
       " -812.664  0.954193  0.106423  6.0     309.482  320.966  332.451  343.935\n",
       " -804.645  0.993192  0.106423  6.0  …  345.687  358.234  370.782  383.329\n",
       " -817.524  0.789933  0.106423  6.0     335.338  349.942  364.545  379.149\n",
       " -822.562  0.978239  0.106423  6.0     334.203  346.309  358.415  370.522\n",
       "    ⋮                               ⋱                               ⋮    \n",
       " -808.202  0.984098  0.106423  6.0     327.282  336.24   345.197  354.154\n",
       " -807.286  0.723254  0.106423  5.0     350.523  365.52   380.517  395.515\n",
       " -806.035  0.992974  0.106423  5.0  …  349.8    364.416  379.032  393.648\n",
       " -800.63   0.896489  0.106423  5.0     338.315  349.826  361.337  372.847\n",
       " -805.055  0.899761  0.106423  5.0     335.553  346.529  357.506  368.482\n",
       " -803.683  0.999031  0.106423  5.0     337.276  350.458  363.639  376.821\n",
       " -800.276  0.971861  0.106423  5.0     332.22   346.065  359.91   373.756\n",
       " -797.98   0.980203  0.106423  6.0  …  336.162  349.504  362.846  376.188\n",
       " -798.736  0.432733  0.106423  5.0     334.958  347.683  360.409  373.134\n",
       " -796.825  0.870159  0.106423  5.0     341.508  353.134  364.76   376.387\n",
       " -802.58   0.961281  0.106423  5.0     343.814  357.587  371.359  385.131\n",
       " -799.936  0.987616  0.106423  6.0     324.482  332.742  341.001  349.26 \n",
       "\n",
       "[:, :, 3] =\n",
       " -793.193  0.976565  0.127002  5.0  …  331.267  345.838  360.41   374.981\n",
       " -799.113  0.928813  0.127002  5.0     344.914  358.68   372.445  386.21 \n",
       " -803.247  0.736031  0.127002  5.0     342.991  354.749  366.506  378.263\n",
       " -804.309  0.922869  0.127002  5.0     341.243  355.747  370.25   384.754\n",
       " -809.22   0.836762  0.127002  5.0     337.391  347.563  357.734  367.906\n",
       " -802.858  0.874837  0.127002  5.0  …  328.801  338.7    348.599  358.498\n",
       " -796.582  0.986343  0.127002  5.0     327.391  339.769  352.146  364.524\n",
       " -795.511  1.0       0.127002  5.0     327.98   340.621  353.262  365.903\n",
       " -803.154  0.803267  0.127002  5.0     328.73   339.534  350.338  361.142\n",
       " -804.64   0.72332   0.127002  4.0     318.997  328.634  338.271  347.908\n",
       " -806.215  0.941111  0.127002  5.0  …  336.121  345.914  355.707  365.5  \n",
       " -807.942  0.962915  0.127002  5.0     331.144  341.778  352.412  363.046\n",
       " -804.468  0.977362  0.127002  5.0     330.519  339.11   347.7    356.29 \n",
       "    ⋮                               ⋱                               ⋮    \n",
       " -812.133  0.862863  0.127002  5.0     334.068  345.445  356.821  368.198\n",
       " -810.005  0.971622  0.127002  5.0     329.412  340.831  352.251  363.67 \n",
       " -803.502  0.477742  0.127002  5.0  …  332.386  343.835  355.284  366.733\n",
       " -805.288  0.985472  0.127002  5.0     336.719  352.022  367.325  382.628\n",
       " -809.792  0.908536  0.127002  5.0     332.826  344.178  355.531  366.883\n",
       " -799.891  0.983309  0.127002  5.0     332.961  344.126  355.291  366.457\n",
       " -793.071  0.98776   0.127002  5.0     332.249  340.941  349.633  358.325\n",
       " -796.037  0.516875  0.127002  5.0  …  325.766  330.979  336.193  341.406\n",
       " -804.867  0.748995  0.127002  5.0     328.026  339.841  351.656  363.471\n",
       " -797.131  0.985025  0.127002  5.0     318.813  326.134  333.455  340.776\n",
       " -796.155  0.882252  0.127002  4.0     355.753  368.015  380.276  392.538\n",
       " -791.861  0.95173   0.127002  5.0     344.105  358.146  372.186  386.226\n",
       "\n",
       "[:, :, 4] =\n",
       " -813.952  0.994056  0.109954  5.0  …  321.228  326.556  331.884  337.212\n",
       " -818.352  0.915236  0.109954  6.0     336.721  346.918  357.115  367.311\n",
       " -814.391  0.857906  0.109954  6.0     329.661  340.087  350.513  360.939\n",
       " -807.922  0.981829  0.109954  6.0     323.09   331.771  340.453  349.134\n",
       " -814.888  0.969516  0.109954  5.0     328.424  342.756  357.087  371.419\n",
       " -815.045  0.975986  0.109954  5.0  …  334.802  344.239  353.676  363.114\n",
       " -804.995  0.855245  0.109954  4.0     335.46   344.623  353.786  362.949\n",
       " -801.318  0.924922  0.109954  6.0     348.877  358.242  367.608  376.973\n",
       " -810.786  0.618574  0.109954  5.0     339.32   350.93   362.54   374.15 \n",
       " -805.0    0.933313  0.109954  6.0     329.194  340.166  351.138  362.11 \n",
       " -819.481  0.929856  0.109954  5.0  …  353.139  371.12   389.101  407.082\n",
       " -809.818  0.893824  0.109954  5.0     332.032  344.932  357.832  370.732\n",
       " -808.236  0.9628    0.109954  6.0     336.174  348.311  360.449  372.587\n",
       "    ⋮                               ⋱                               ⋮    \n",
       " -802.91   0.798821  0.109954  5.0     332.001  341.601  351.202  360.802\n",
       " -808.026  0.927025  0.109954  6.0     345.738  358.468  371.197  383.926\n",
       " -804.452  0.993951  0.109954  5.0  …  334.786  346.594  358.402  370.21 \n",
       " -808.439  0.881515  0.109954  5.0     329.883  341.689  353.495  365.3  \n",
       " -817.361  0.804966  0.109954  5.0     342.321  357.658  372.995  388.333\n",
       " -820.935  0.798767  0.109954  6.0     330.734  343.902  357.07   370.238\n",
       " -831.487  0.927233  0.109954  6.0     337.388  353.385  369.381  385.377\n",
       " -822.888  0.773487  0.109954  6.0  …  340.062  352.402  364.743  377.083\n",
       " -816.649  0.771273  0.109954  6.0     334.152  347.906  361.66   375.414\n",
       " -804.801  0.934378  0.109954  6.0     339.923  349.868  359.813  369.758\n",
       " -813.732  0.741785  0.109954  6.0     331.734  344.615  357.496  370.376\n",
       " -805.697  0.953167  0.109954  5.0     342.32   354.744  367.167  379.591"
      ]
     },
     "execution_count": 19,
     "metadata": {},
     "output_type": "execute_result"
    }
   ],
   "source": [
    "sim1 = stan(stanmodel, sleepdata)"
   ]
  }
 ],
 "metadata": {
  "kernelspec": {
   "display_name": "Julia 0.3.6",
   "language": "julia",
   "name": "julia 0.3"
  },
  "language_info": {
   "name": "julia",
   "version": "0.3.6"
  }
 },
 "nbformat": 4,
 "nbformat_minor": 0
}
