{
 "cells": [
  {
   "cell_type": "markdown",
   "metadata": {},
   "source": [
    "# Mamba sampling for a simple linear regression\n",
    "\n",
    "This notebook is a modification of an example in the documentation of the Mamba package"
   ]
  },
  {
   "cell_type": "code",
   "execution_count": 2,
   "metadata": {
    "collapsed": false
   },
   "outputs": [],
   "source": [
    "addprocs(4);\n",
    "using Compat, Distributions, GraphViz, Mamba, PDMats"
   ]
  },
  {
   "cell_type": "markdown",
   "metadata": {},
   "source": [
    "First we declare the data"
   ]
  },
  {
   "cell_type": "code",
   "execution_count": 3,
   "metadata": {
    "collapsed": true
   },
   "outputs": [],
   "source": [
    "const X = hcat(ones(5),[1.:5]);\n",
    "const y = [1.,3.,3.,3.,5.];"
   ]
  },
  {
   "cell_type": "markdown",
   "metadata": {},
   "source": [
    "A simple linear regression model is given in the [Mamba manual](http://mambajl.readthedocs.org/en/latest/) as"
   ]
  },
  {
   "cell_type": "code",
   "execution_count": 4,
   "metadata": {
    "collapsed": false
   },
   "outputs": [],
   "source": [
    "model = Model(\n",
    "  y = Stochastic(1, @modelexpr(μ, σ², MvNormal(μ, √σ²)), false),\n",
    "  μ = Logical(1, @modelexpr(X, β, XtX, Xty, X * β), false),\n",
    "  β = Stochastic(1,:(MvNormalCanon(2,0.001))),\n",
    "  σ² = Stochastic(:(InverseGamma(0.001, 0.001)))\n",
    ");"
   ]
  },
  {
   "cell_type": "markdown",
   "metadata": {},
   "source": [
    "The directed acyclic graph (DAG) of the model is"
   ]
  },
  {
   "cell_type": "code",
   "execution_count": 5,
   "metadata": {
    "collapsed": false
   },
   "outputs": [
    {
     "data": {
      "image/png": "[encoded data removed]",
      "image/svg+xml": [
       "<?xml version=\"1.0\" encoding=\"UTF-8\" standalone=\"no\"?>\n",
       "<!DOCTYPE svg PUBLIC \"-//W3C//DTD SVG 1.1//EN\"\n",
       " \"http://www.w3.org/Graphics/SVG/1.1/DTD/svg11.dtd\">\n",
       "<!-- Generated by graphviz version 2.36.0 (20140111.2315)\n",
       " -->\n",
       "<!-- Title: MambaModel Pages: 1 -->\n",
       "<svg width=\"211pt\" height=\"267pt\"\n",
       " viewBox=\"0.00 0.00 210.65 267.27\" xmlns=\"http://www.w3.org/2000/svg\" xmlns:xlink=\"http://www.w3.org/1999/xlink\">\n",
       "<g id=\"graph0\" class=\"graph\" transform=\"scale(1 1) rotate(0) translate(4 263.271)\">\n",
       "<title>MambaModel</title>\n",
       "<polygon fill=\"white\" stroke=\"none\" points=\"-4,4 -4,-263.271 206.651,-263.271 206.651,4 -4,4\"/>\n",
       "<!-- β -->\n",
       "<g id=\"node1\" class=\"node\"><title>β</title>\n",
       "<ellipse fill=\"none\" stroke=\"black\" cx=\"27\" cy=\"-201.854\" rx=\"27\" ry=\"18\"/>\n",
       "<text text-anchor=\"middle\" x=\"27\" y=\"-198.154\" font-family=\"Times,serif\" font-size=\"14.00\">β</text>\n",
       "</g>\n",
       "<!-- μ -->\n",
       "<g id=\"node2\" class=\"node\"><title>μ</title>\n",
       "<polygon fill=\"#d9d9d9\" stroke=\"black\" points=\"97.3392,-178.654 70.3392,-160.654 97.3392,-142.654 124.339,-160.654 97.3392,-178.654\"/>\n",
       "<text text-anchor=\"middle\" x=\"97.3392\" y=\"-156.954\" font-family=\"Times,serif\" font-size=\"14.00\">μ</text>\n",
       "</g>\n",
       "<!-- β&#45;&gt;μ -->\n",
       "<g id=\"edge1\" class=\"edge\"><title>β&#45;&gt;μ</title>\n",
       "<path fill=\"none\" stroke=\"black\" d=\"M47.345,-189.937C55.688,-185.05 65.3934,-179.366 74.0212,-174.312\"/>\n",
       "<polygon fill=\"black\" stroke=\"black\" points=\"75.9851,-177.218 82.8449,-169.144 72.4471,-171.178 75.9851,-177.218\"/>\n",
       "</g>\n",
       "<!-- y -->\n",
       "<g id=\"node4\" class=\"node\"><title>y</title>\n",
       "<ellipse fill=\"#d9d9d9\" stroke=\"black\" cx=\"131.974\" cy=\"-86.6456\" rx=\"27\" ry=\"18\"/>\n",
       "<text text-anchor=\"middle\" x=\"131.974\" y=\"-82.9456\" font-family=\"Times,serif\" font-size=\"14.00\">y</text>\n",
       "</g>\n",
       "<!-- μ&#45;&gt;y -->\n",
       "<g id=\"edge3\" class=\"edge\"><title>μ&#45;&gt;y</title>\n",
       "<path fill=\"none\" stroke=\"black\" d=\"M103.854,-146.733C108.293,-137.247 114.31,-124.39 119.639,-113.003\"/>\n",
       "<polygon fill=\"black\" stroke=\"black\" points=\"122.835,-114.431 123.904,-103.891 116.495,-111.464 122.835,-114.431\"/>\n",
       "</g>\n",
       "<!-- σ² -->\n",
       "<g id=\"node3\" class=\"node\"><title>σ²</title>\n",
       "<ellipse fill=\"none\" stroke=\"black\" cx=\"163.251\" cy=\"-18\" rx=\"27\" ry=\"18\"/>\n",
       "<text text-anchor=\"middle\" x=\"163.251\" y=\"-14.3\" font-family=\"Times,serif\" font-size=\"14.00\">σ²</text>\n",
       "</g>\n",
       "<!-- σ²&#45;&gt;y -->\n",
       "<g id=\"edge2\" class=\"edge\"><title>σ²&#45;&gt;y</title>\n",
       "<path fill=\"none\" stroke=\"black\" d=\"M155.359,-35.3222C151.977,-42.7445 147.949,-51.5859 144.196,-59.8216\"/>\n",
       "<polygon fill=\"black\" stroke=\"black\" points=\"140.934,-58.539 139.973,-69.0902 147.304,-61.4414 140.934,-58.539\"/>\n",
       "</g>\n",
       "<!-- X -->\n",
       "<g id=\"node5\" class=\"node\"><title>X</title>\n",
       "<polygon fill=\"#d9d9d9\" stroke=\"black\" points=\"202.651,-202.605 148.651,-202.605 148.651,-166.605 202.651,-166.605 202.651,-202.605\"/>\n",
       "<text text-anchor=\"middle\" x=\"175.651\" y=\"-180.905\" font-family=\"Times,serif\" font-size=\"14.00\">X</text>\n",
       "</g>\n",
       "<!-- X&#45;&gt;μ -->\n",
       "<g id=\"edge4\" class=\"edge\"><title>X&#45;&gt;μ</title>\n",
       "<path fill=\"none\" stroke=\"black\" d=\"M148.261,-176.228C141.066,-174.027 133.287,-171.648 126.026,-169.427\"/>\n",
       "<polygon fill=\"black\" stroke=\"black\" points=\"126.808,-166.006 116.221,-166.429 124.76,-172.7 126.808,-166.006\"/>\n",
       "</g>\n",
       "<!-- XtX -->\n",
       "<g id=\"node6\" class=\"node\"><title>XtX</title>\n",
       "<polygon fill=\"#d9d9d9\" stroke=\"black\" points=\"135.682,-259.271 81.6821,-259.271 81.6821,-223.271 135.682,-223.271 135.682,-259.271\"/>\n",
       "<text text-anchor=\"middle\" x=\"108.682\" y=\"-237.571\" font-family=\"Times,serif\" font-size=\"14.00\">XtX</text>\n",
       "</g>\n",
       "<!-- XtX&#45;&gt;μ -->\n",
       "<g id=\"edge5\" class=\"edge\"><title>XtX&#45;&gt;μ</title>\n",
       "<path fill=\"none\" stroke=\"black\" d=\"M106.108,-222.978C104.627,-212.45 102.739,-199.031 101.095,-187.344\"/>\n",
       "<polygon fill=\"black\" stroke=\"black\" points=\"104.531,-186.644 99.6715,-177.229 97.599,-187.619 104.531,-186.644\"/>\n",
       "</g>\n",
       "<!-- Xty -->\n",
       "<g id=\"node7\" class=\"node\"><title>Xty</title>\n",
       "<polygon fill=\"#d9d9d9\" stroke=\"black\" points=\"56.1924,-133.104 2.1924,-133.104 2.1924,-97.1039 56.1924,-97.1039 56.1924,-133.104\"/>\n",
       "<text text-anchor=\"middle\" x=\"29.1924\" y=\"-111.404\" font-family=\"Times,serif\" font-size=\"14.00\">Xty</text>\n",
       "</g>\n",
       "<!-- Xty&#45;&gt;μ -->\n",
       "<g id=\"edge6\" class=\"edge\"><title>Xty&#45;&gt;μ</title>\n",
       "<path fill=\"none\" stroke=\"black\" d=\"M56.1258,-133.106C62.4249,-137.317 69.0647,-141.755 75.1312,-145.81\"/>\n",
       "<polygon fill=\"black\" stroke=\"black\" points=\"73.2437,-148.758 83.5025,-151.405 77.1336,-142.938 73.2437,-148.758\"/>\n",
       "</g>\n",
       "</g>\n",
       "</svg>\n"
      ],
      "text/plain": [
       "Graph(Ptr{Void} @0x0000000008552280,false)"
      ]
     },
     "execution_count": 5,
     "metadata": {},
     "output_type": "execute_result"
    }
   ],
   "source": [
    "draw(model; filename = \"model.dot\")\n",
    "open(\"model.dot\",\"r\") do io Graph(io) end"
   ]
  },
  {
   "cell_type": "markdown",
   "metadata": {},
   "source": [
    "Because the priors are conjugate we can define explicit samplers."
   ]
  },
  {
   "cell_type": "code",
   "execution_count": 6,
   "metadata": {
    "collapsed": true
   },
   "outputs": [],
   "source": [
    "Gibbs_β = Sampler([:β],\n",
    "  @modelexpr(β, σ², XtX, Xty,\n",
    "    begin\n",
    "      potential = Xty / σ²\n",
    "      precision = XtX / σ².value + invcov(β.distr)\n",
    "      rand(MvNormalCanon(potential, precision))\n",
    "    end\n",
    "  )\n",
    ");\n",
    "Gibbs_σ² = Sampler([:σ²],\n",
    "  @modelexpr(β, σ², μ, y, \n",
    "    begin\n",
    "      a = length(y) / 2.0 + shape(σ².distr)\n",
    "      b = sumabs2(y - μ) / 2.0 + scale(σ².distr)\n",
    "      rand(InverseGamma(a, b))\n",
    "    end\n",
    "  )\n",
    ");\n",
    "setsamplers!(model,[Gibbs_β, Gibbs_σ²]);"
   ]
  },
  {
   "cell_type": "code",
   "execution_count": 7,
   "metadata": {
    "collapsed": true
   },
   "outputs": [],
   "source": [
    "setinputs!(model,\n",
    "  @compat Dict{Symbol,Any}(:X => X,:XtX => PDMat(X'X), :Xty => X'y));"
   ]
  },
  {
   "cell_type": "markdown",
   "metadata": {},
   "source": [
    "Set the random number generator seed for reproducibility"
   ]
  },
  {
   "cell_type": "code",
   "execution_count": 8,
   "metadata": {
    "collapsed": true
   },
   "outputs": [],
   "source": [
    "srand(1234321);"
   ]
  },
  {
   "cell_type": "code",
   "execution_count": 9,
   "metadata": {
    "collapsed": false
   },
   "outputs": [],
   "source": [
    "setinits!(model,\n",
    "  @compat(Dict{Symbol,Any}(:y=>y,:σ²=>rand(Gamma(1.,1.)),\n",
    "    :β=>randn(2))));"
   ]
  },
  {
   "cell_type": "markdown",
   "metadata": {},
   "source": [
    "Now check that the samplers are working as expected."
   ]
  },
  {
   "cell_type": "code",
   "execution_count": 10,
   "metadata": {
    "collapsed": false
   },
   "outputs": [
    {
     "data": {
      "text/plain": [
       "Object of type \"Model\"\n",
       "-------------------------------------------------------------------------------\n",
       "β:\n",
       "A monitored node of type \"Stochastic{Array{Float64,1}}\"\n",
       "[0.155395,0.933491]\n",
       "-------------------------------------------------------------------------------\n",
       "XtX:\n",
       "PDMat(2,2x2 Array{Float64,2}:\n",
       "  5.0  15.0\n",
       " 15.0  55.0,Cholesky{Float64} with factor:\n",
       "2x2 Triangular{Float64,Array{Float64,2},:U,false}:\n",
       " 2.23607  6.7082 \n",
       " 0.0      3.16228)\n",
       "-------------------------------------------------------------------------------\n",
       "Xty:\n",
       "[15.0,53.0]\n",
       "-------------------------------------------------------------------------------\n",
       "σ²:\n",
       "A monitored node of type \"Stochastic{Float64}\"\n",
       "0.4592812843144565\n",
       "-------------------------------------------------------------------------------\n",
       "μ:\n",
       "An unmonitored node of type \"Logical{Array{Float64,1}}\"\n",
       "[1.08889,2.02238,2.95587,3.88936,4.82285]\n",
       "-------------------------------------------------------------------------------\n",
       "X:\n",
       "5x2 Array{Float64,2}:\n",
       " 1.0  1.0\n",
       " 1.0  2.0\n",
       " 1.0  3.0\n",
       " 1.0  4.0\n",
       " 1.0  5.0\n",
       "-------------------------------------------------------------------------------\n",
       "y:\n",
       "An unmonitored node of type \"Stochastic{Array{Float64,1}}\"\n",
       "[1.0,3.0,3.0,3.0,5.0]\n"
      ]
     },
     "execution_count": 10,
     "metadata": {},
     "output_type": "execute_result"
    }
   ],
   "source": [
    "simulate!(model)"
   ]
  },
  {
   "cell_type": "markdown",
   "metadata": {},
   "source": [
    "The initial values, except for the response, `y`, are chosen at random.  There will be 4 chains, each running on a separate process."
   ]
  },
  {
   "cell_type": "code",
   "execution_count": 11,
   "metadata": {
    "collapsed": false
   },
   "outputs": [
    {
     "data": {
      "text/plain": [
       "4-element Array{Dict{Symbol,Any},1}:\n",
       " [:β=>[-0.0156447,0.953986],:σ²=>0.9526895901635107,:y=>[1.0,3.0,3.0,3.0,5.0]]\n",
       " [:β=>[1.59606,-2.68816],:σ²=>0.65749993909,:y=>[1.0,3.0,3.0,3.0,5.0]]        \n",
       " [:β=>[-0.737157,-1.52248],:σ²=>0.26922686183589084,:y=>[1.0,3.0,3.0,3.0,5.0]]\n",
       " [:β=>[0.124493,0.151912],:σ²=>0.490296325781171,:y=>[1.0,3.0,3.0,3.0,5.0]]   "
      ]
     },
     "execution_count": 11,
     "metadata": {},
     "output_type": "execute_result"
    }
   ],
   "source": [
    "inits = [@compat Dict{Symbol,Any}(\n",
    "    :y => y,\n",
    "    :β => rand(Normal(0, 1), 2),\n",
    "    :σ² => rand(Gamma(1, 1))) for i in 1:4]  # 4 chains"
   ]
  },
  {
   "cell_type": "code",
   "execution_count": 12,
   "metadata": {
    "collapsed": false
   },
   "outputs": [
    {
     "ename": "LoadError",
     "evalue": "line not defined\nwhile loading In[12], in expression starting on line 1",
     "output_type": "error",
     "traceback": [
      "line not defined\nwhile loading In[12], in expression starting on line 1",
      ""
     ]
    }
   ],
   "source": [
    "sim = mcmc(model, line, inits, 10000, burnin=2500,\n",
    "           thin=2, chains=4, verbose=false);"
   ]
  },
  {
   "cell_type": "markdown",
   "metadata": {},
   "source": [
    "The first time that chains are simulated the various must be compiled.  Once they have been compiled sampling is very fast"
   ]
  },
  {
   "cell_type": "code",
   "execution_count": 13,
   "metadata": {
    "collapsed": false
   },
   "outputs": [
    {
     "ename": "LoadError",
     "evalue": "line not defined\nwhile loading In[13], in expression starting on line 56",
     "output_type": "error",
     "traceback": [
      "line not defined\nwhile loading In[13], in expression starting on line 56",
      ""
     ]
    }
   ],
   "source": [
    "@time mcmc(model, line, inits, 10000, \n",
    "           burnin=2500, thin=2, chains=4, verbose=false);"
   ]
  },
  {
   "cell_type": "code",
   "execution_count": 14,
   "metadata": {
    "collapsed": false
   },
   "outputs": [
    {
     "ename": "LoadError",
     "evalue": "sim not defined\nwhile loading In[14], in expression starting on line 1",
     "output_type": "error",
     "traceback": [
      "sim not defined\nwhile loading In[14], in expression starting on line 1",
      ""
     ]
    }
   ],
   "source": [
    "describe(sim)"
   ]
  },
  {
   "cell_type": "code",
   "execution_count": 15,
   "metadata": {
    "collapsed": false
   },
   "outputs": [
    {
     "ename": "LoadError",
     "evalue": "sim not defined\nwhile loading In[15], in expression starting on line 1",
     "output_type": "error",
     "traceback": [
      "sim not defined\nwhile loading In[15], in expression starting on line 1",
      ""
     ]
    }
   ],
   "source": [
    "hpd(sim)"
   ]
  },
  {
   "cell_type": "code",
   "execution_count": 16,
   "metadata": {
    "collapsed": false
   },
   "outputs": [
    {
     "ename": "LoadError",
     "evalue": "sim not defined\nwhile loading In[16], in expression starting on line 1",
     "output_type": "error",
     "traceback": [
      "sim not defined\nwhile loading In[16], in expression starting on line 1",
      ""
     ]
    }
   ],
   "source": [
    "draw(plot(sim))"
   ]
  }
 ],
 "metadata": {
  "kernelspec": {
   "display_name": "Julia 0.3.8",
   "language": "julia",
   "name": "julia-0.3"
  },
  "language_info": {
   "name": "julia",
   "version": "0.3.8"
  }
 },
 "nbformat": 4,
 "nbformat_minor": 0
}
