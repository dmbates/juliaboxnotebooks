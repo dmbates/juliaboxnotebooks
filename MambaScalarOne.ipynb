{
 "cells": [
  {
   "cell_type": "markdown",
   "metadata": {},
   "source": [
    "# Mamba MCMC for an LMM with one simple, scalar term"
   ]
  },
  {
   "cell_type": "code",
   "execution_count": 3,
   "metadata": {
    "collapsed": false
   },
   "outputs": [],
   "source": [
    "addprocs(4);\n",
    "using Compat,DataFrames,Distributions,GraphViz,Mamba,RCall"
   ]
  },
  {
   "cell_type": "code",
   "execution_count": 4,
   "metadata": {
    "collapsed": false
   },
   "outputs": [
    {
     "name": "stdout",
     "output_type": "stream",
     "text": [
      "DataFrame  30 observations of 2 variables\n",
      "  Batch: PooledDataArray{ASCIIString,Uint8,1}(30) ASCIIString[\"A\",\"A\",\"A\",\"A\"]\n",
      "  Yield: DataArray{Float64,1}(30) [1545.0,1440.0,1440.0,1520.0]\n"
     ]
    }
   ],
   "source": [
    "ds = DataFrames.DataFrame(\"lme4::Dyestuff\")\n",
    "dump(ds)"
   ]
  },
  {
   "cell_type": "markdown",
   "metadata": {},
   "source": [
    "Create a `Dict{Symbol,Any}` containing the response and model matrices `X`, for the fixed-effects, and `Z`, for the random effects."
   ]
  },
  {
   "cell_type": "code",
   "execution_count": 6,
   "metadata": {
    "collapsed": false
   },
   "outputs": [
    {
     "data": {
      "text/plain": [
       "1-element Array{Float64,1}:\n",
       " 45825.0"
      ]
     },
     "execution_count": 6,
     "metadata": {},
     "output_type": "execute_result"
    }
   ],
   "source": [
    "dsdat = @compat Dict{Symbol,Any}(\n",
    "  :y => convert(Vector{Float64},DataArrays.array(ds[:Yield])),\n",
    "  :Zt => StatsBase.indicatormat(ds[:Batch]),\n",
    "  :X => ones(30,1)\n",
    ")\n",
    "dsdat[:Zty] = dsdat[:Zt] * dsdat[:y]\n",
    "dsdat[:Xty] = dsdat[:X]'dsdat[:y]"
   ]
  },
  {
   "cell_type": "code",
   "execution_count": 7,
   "metadata": {
    "collapsed": false
   },
   "outputs": [
    {
     "data": {
      "text/plain": [
       "1527.5"
      ]
     },
     "execution_count": 7,
     "metadata": {},
     "output_type": "execute_result"
    }
   ],
   "source": [
    "b = randn(6)         # initial values for random effects\n",
    "β = mean(dsdat[:y])  # initial value for β\n",
    "λ = 1.               # initial value for σ₁/σ"
   ]
  },
  {
   "cell_type": "code",
   "execution_count": 13,
   "metadata": {
    "collapsed": false
   },
   "outputs": [
    {
     "data": {
      "text/plain": [
       "30x1 Array{Float64,2}:\n",
       " 1528.42\n",
       " 1528.42\n",
       " 1528.42\n",
       " 1528.42\n",
       " 1528.42\n",
       " 1526.91\n",
       " 1526.91\n",
       " 1526.91\n",
       " 1526.91\n",
       " 1526.91\n",
       " 1527.3 \n",
       " 1527.3 \n",
       " 1527.3 \n",
       "    ⋮   \n",
       " 1526.14\n",
       " 1526.14\n",
       " 1529.72\n",
       " 1529.72\n",
       " 1529.72\n",
       " 1529.72\n",
       " 1529.72\n",
       " 1526.91\n",
       " 1526.91\n",
       " 1526.91\n",
       " 1526.91\n",
       " 1526.91"
      ]
     },
     "execution_count": 13,
     "metadata": {},
     "output_type": "execute_result"
    }
   ],
   "source": [
    "dsdat[:X]*β + dsdat[:Zt]'b"
   ]
  },
  {
   "cell_type": "code",
   "execution_count": 17,
   "metadata": {
    "collapsed": false
   },
   "outputs": [],
   "source": [
    "dsmod = Model(\n",
    "  μ = Logical(1, @modelexpr(β,b,X,Zt,vec(X*β+Zt'b)), false),\n",
    "  σ = Logical(1, @modelexpr(logσ,exp(logσ)),false),\n",
    "  y = Stochastic(1, @modelexpr(μ,σ,MvNormal(μ,σ)),false),\n",
    "  logσ = Stochastic(1, :(Flat()), true),\n",
    "  λ = Stochastic(1, :(Gamma(1,1)), true),\n",
    "  β = Stochastic(1, :(Flat()), true),\n",
    "  b = Stochastic(1, @modelexpr(σ, λ, MvNormal(6, λ*σ)), false)\n",
    ");"
   ]
  },
  {
   "cell_type": "code",
   "execution_count": 18,
   "metadata": {
    "collapsed": false
   },
   "outputs": [],
   "source": [
    "draw(dsmod,filename=\"foo.dot\");"
   ]
  },
  {
   "cell_type": "code",
   "execution_count": 19,
   "metadata": {
    "collapsed": false
   },
   "outputs": [
    {
     "data": {
      "image/png": "[encoded data removed]",
      "image/svg+xml": [
       "<?xml version=\"1.0\" encoding=\"UTF-8\" standalone=\"no\"?>\n",
       "<!DOCTYPE svg PUBLIC \"-//W3C//DTD SVG 1.1//EN\"\n",
       " \"http://www.w3.org/Graphics/SVG/1.1/DTD/svg11.dtd\">\n",
       "<!-- Generated by graphviz version 2.38.0 (20140413.2041)\n",
       " -->\n",
       "<!-- Title: MambaModel Pages: 1 -->\n",
       "<svg width=\"257pt\" height=\"275pt\"\n",
       " viewBox=\"0.00 0.00 256.98 275.01\" xmlns=\"http://www.w3.org/2000/svg\" xmlns:xlink=\"http://www.w3.org/1999/xlink\">\n",
       "<g id=\"graph0\" class=\"graph\" transform=\"scale(1 1) rotate(0) translate(134.31 149.5)\">\n",
       "<title>MambaModel</title>\n",
       "<polygon fill=\"white\" stroke=\"none\" points=\"-134.31,125.507 -134.31,-149.5 122.674,-149.5 122.674,125.507 -134.31,125.507\"/>\n",
       "<!-- b -->\n",
       "<g id=\"node1\" class=\"node\"><title>b</title>\n",
       "<ellipse fill=\"#d9d9d9\" stroke=\"black\" cx=\"-26.7898\" cy=\"-48.8381\" rx=\"27\" ry=\"18\"/>\n",
       "<text text-anchor=\"middle\" x=\"-26.7898\" y=\"-45.1381\" font-family=\"Times,serif\" font-size=\"14.00\">b</text>\n",
       "</g>\n",
       "<!-- μ -->\n",
       "<g id=\"node2\" class=\"node\"><title>μ</title>\n",
       "<polygon fill=\"#d9d9d9\" stroke=\"black\" points=\"21.381,2.40027 -5.61902,20.4003 21.381,38.4003 48.381,20.4003 21.381,2.40027\"/>\n",
       "<text text-anchor=\"middle\" x=\"21.381\" y=\"24.1003\" font-family=\"Times,serif\" font-size=\"14.00\">μ</text>\n",
       "</g>\n",
       "<!-- b&#45;&gt;μ -->\n",
       "<g id=\"edge1\" class=\"edge\"><title>b&#45;&gt;μ</title>\n",
       "<path fill=\"none\" stroke=\"black\" d=\"M-15.374,-32.4296C-8.74631,-22.9033 -0.329355,-10.8052 6.77714,-0.590618\"/>\n",
       "<polygon fill=\"black\" stroke=\"black\" points=\"9.76898,-2.41874 12.607,7.78893 4.02282,1.57901 9.76898,-2.41874\"/>\n",
       "</g>\n",
       "<!-- y -->\n",
       "<g id=\"node4\" class=\"node\"><title>y</title>\n",
       "<ellipse fill=\"#d9d9d9\" stroke=\"black\" cx=\"-58.8994\" cy=\"40.9441\" rx=\"27\" ry=\"18\"/>\n",
       "<text text-anchor=\"middle\" x=\"-58.8994\" y=\"44.6441\" font-family=\"Times,serif\" font-size=\"14.00\">y</text>\n",
       "</g>\n",
       "<!-- μ&#45;&gt;y -->\n",
       "<g id=\"edge6\" class=\"edge\"><title>μ&#45;&gt;y</title>\n",
       "<path fill=\"none\" stroke=\"black\" d=\"M1.53638,25.4785C-6.07271,27.4257 -15.0022,29.7108 -23.6274,31.918\"/>\n",
       "<polygon fill=\"black\" stroke=\"black\" points=\"-22.9599,35.3599 -33.5154,34.4483 -24.6953,28.5784 -22.9599,35.3599\"/>\n",
       "</g>\n",
       "<!-- logσ -->\n",
       "<g id=\"node3\" class=\"node\"><title>logσ</title>\n",
       "<ellipse fill=\"none\" stroke=\"black\" cx=\"-103.31\" cy=\"-22.2485\" rx=\"27\" ry=\"18\"/>\n",
       "<text text-anchor=\"middle\" x=\"-103.31\" y=\"-18.5485\" font-family=\"Times,serif\" font-size=\"14.00\">logσ</text>\n",
       "</g>\n",
       "<!-- logσ&#45;&gt;b -->\n",
       "<g id=\"edge2\" class=\"edge\"><title>logσ&#45;&gt;b</title>\n",
       "<path fill=\"none\" stroke=\"black\" d=\"M-79.0988,-30.6616C-73.1796,-32.7185 -66.7394,-34.9563 -60.466,-37.1362\"/>\n",
       "<polygon fill=\"black\" stroke=\"black\" points=\"-61.4387,-40.5035 -50.8439,-40.4797 -59.141,-33.8913 -61.4387,-40.5035\"/>\n",
       "</g>\n",
       "<!-- logσ&#45;&gt;y -->\n",
       "<g id=\"edge3\" class=\"edge\"><title>logσ&#45;&gt;y</title>\n",
       "<path fill=\"none\" stroke=\"black\" d=\"M-91.642,-5.64541C-86.9871,0.977992 -81.5281,8.7457 -76.4164,16.0192\"/>\n",
       "<polygon fill=\"black\" stroke=\"black\" points=\"-73.5306,14.0384 -70.6442,24.2325 -79.2577,18.0633 -73.5306,14.0384\"/>\n",
       "</g>\n",
       "<!-- λ -->\n",
       "<g id=\"node5\" class=\"node\"><title>λ</title>\n",
       "<ellipse fill=\"none\" stroke=\"black\" cx=\"-28.9301\" cy=\"-127.5\" rx=\"27\" ry=\"18\"/>\n",
       "<text text-anchor=\"middle\" x=\"-28.9301\" y=\"-123.8\" font-family=\"Times,serif\" font-size=\"14.00\">λ</text>\n",
       "</g>\n",
       "<!-- λ&#45;&gt;b -->\n",
       "<g id=\"edge4\" class=\"edge\"><title>λ&#45;&gt;b</title>\n",
       "<path fill=\"none\" stroke=\"black\" d=\"M-28.4337,-109.256C-28.1743,-99.7246 -27.8512,-87.8481 -27.5602,-77.1535\"/>\n",
       "<polygon fill=\"black\" stroke=\"black\" points=\"-24.0569,-77.075 -27.2835,-66.9835 -31.0543,-76.8846 -24.0569,-77.075\"/>\n",
       "</g>\n",
       "<!-- β -->\n",
       "<g id=\"node6\" class=\"node\"><title>β</title>\n",
       "<ellipse fill=\"none\" stroke=\"black\" cx=\"89.5257\" cy=\"-26.106\" rx=\"27\" ry=\"18\"/>\n",
       "<text text-anchor=\"middle\" x=\"89.5257\" y=\"-22.406\" font-family=\"Times,serif\" font-size=\"14.00\">β</text>\n",
       "</g>\n",
       "<!-- β&#45;&gt;μ -->\n",
       "<g id=\"edge5\" class=\"edge\"><title>β&#45;&gt;μ</title>\n",
       "<path fill=\"none\" stroke=\"black\" d=\"M70.5436,-13.1514C62.0371,-7.34606 51.9581,-0.467493 43.1473,5.54553\"/>\n",
       "<polygon fill=\"black\" stroke=\"black\" points=\"45.0973,8.45212 34.8645,11.1982 41.1514,2.67026 45.0973,8.45212\"/>\n",
       "</g>\n",
       "<!-- X -->\n",
       "<g id=\"node7\" class=\"node\"><title>X</title>\n",
       "<polygon fill=\"#d9d9d9\" stroke=\"black\" points=\"42.3488,85.5071 -11.6512,85.5071 -11.6512,121.507 42.3488,121.507 42.3488,85.5071\"/>\n",
       "<text text-anchor=\"middle\" x=\"15.3488\" y=\"107.207\" font-family=\"Times,serif\" font-size=\"14.00\">X</text>\n",
       "</g>\n",
       "<!-- X&#45;&gt;μ -->\n",
       "<g id=\"edge7\" class=\"edge\"><title>X&#45;&gt;μ</title>\n",
       "<path fill=\"none\" stroke=\"black\" d=\"M16.6577,85.4742C17.451,74.5449 18.4792,60.3789 19.3736,48.0558\"/>\n",
       "<polygon fill=\"black\" stroke=\"black\" points=\"15.9011,47.5489 20.116,37.8285 22.8828,48.0557 15.9011,47.5489\"/>\n",
       "</g>\n",
       "<!-- Zt -->\n",
       "<g id=\"node8\" class=\"node\"><title>Zt</title>\n",
       "<polygon fill=\"#d9d9d9\" stroke=\"black\" points=\"118.674,41.841 64.6743,41.841 64.6743,77.841 118.674,77.841 118.674,41.841\"/>\n",
       "<text text-anchor=\"middle\" x=\"91.6743\" y=\"63.541\" font-family=\"Times,serif\" font-size=\"14.00\">Zt</text>\n",
       "</g>\n",
       "<!-- Zt&#45;&gt;μ -->\n",
       "<g id=\"edge8\" class=\"edge\"><title>Zt&#45;&gt;μ</title>\n",
       "<path fill=\"none\" stroke=\"black\" d=\"M64.2958,44.4793C58.0219,40.9591 51.4004,37.2438 45.2862,33.8132\"/>\n",
       "<polygon fill=\"black\" stroke=\"black\" points=\"43.2269,36.6711 36.2186,28.7255 46.6523,30.5664 43.2269,36.6711\"/>\n",
       "</g>\n",
       "</g>\n",
       "</svg>\n"
      ],
      "text/plain": [
       "Graph(Ptr{Void} @0x0000000010b8e1d0,false)"
      ]
     },
     "execution_count": 19,
     "metadata": {},
     "output_type": "execute_result"
    }
   ],
   "source": [
    "open(\"foo.dot\",\"r\") do io Graph(io) end"
   ]
  },
  {
   "cell_type": "code",
   "execution_count": 39,
   "metadata": {
    "collapsed": false
   },
   "outputs": [],
   "source": [
    "Gibbs_b = Sampler([:b],\n",
    "@modelexpr(b,β,y,Zt,X,logσ,logσb,\n",
    "begin\n",
    "    I = eye(size(Zt,1))\n",
    "    Λ = exp(logσb - logσ)*I\n",
    "    ΛtZt = Λ'Zt\n",
    "    L = cholfact(ΛtZt*ΛtZt' + I)\n",
    "    rand(MvNormal(vec(L\\(ΛtZt*(y-X*β)))))\n",
    "end));    "
   ]
  }
 ],
 "metadata": {
  "kernelspec": {
   "display_name": "Julia 0.3.6",
   "language": "julia",
   "name": "julia 0.3"
  },
  "language_info": {
   "name": "julia",
   "version": "0.3.7"
  }
 },
 "nbformat": 4,
 "nbformat_minor": 0
}
