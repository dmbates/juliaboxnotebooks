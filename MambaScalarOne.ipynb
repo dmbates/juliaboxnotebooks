{
 "cells": [
  {
   "cell_type": "markdown",
   "metadata": {},
   "source": [
    "# Mamba MCMC for an LMM with one simple, scalar term"
   ]
  },
  {
   "cell_type": "code",
   "execution_count": 1,
   "metadata": {
    "collapsed": false
   },
   "outputs": [
    {
     "name": "stderr",
     "output_type": "stream",
     "text": [
      "exception on 1: ERROR: opening file /home/juser/.julia/v0.3/Mamba/src/../usr/addons.jl: No such file or directory\n",
      " in open at ./iostream.jl:117\n",
      " in open at ./iostream.jl:135\n",
      " in readall at io.jl:247\n",
      " in anonymous at multi.jl:855\n",
      " in run_work_thunk at multi.jl:621\n",
      " in anonymous at task.jl:855\n",
      "exception on 1: ERROR: opening file /home/juser/.julia/v0.3/Mamba/src/../usr/addons.jl: No such file or directory\n",
      " in open at ./iostream.jl:117\n",
      " in open at ./iostream.jl:135\n",
      " in readall at io.jl:247\n",
      " in anonymous at multi.jl:855\n",
      " in run_work_thunk at multi.jl:621\n",
      " in anonymous at task.jl:855\n",
      "exception on 1: ERROR: opening file /home/juser/.julia/v0.3/Mamba/src/../usr/addons.jl: No such file or directory\n",
      " in open at ./iostream.jl:117\n",
      " in open at ./iostream.jl:135\n",
      " in readall at io.jl:247\n",
      " in anonymous at multi.jl:855\n",
      " in run_work_thunk at multi.jl:621\n",
      " in anonymous at task.jl:855\n",
      "exception on 1: ERROR: opening file /home/juser/.julia/v0.3/Mamba/src/../usr/addons.jl: No such file or directory\n",
      " in open at ./iostream.jl:117\n",
      " in open at ./iostream.jl:135\n",
      " in readall at io.jl:247\n",
      " in anonymous at multi.jl:855\n",
      " in run_work_thunk at multi.jl:621\n",
      " in anonymous at task.jl:855\n"
     ]
    }
   ],
   "source": [
    "addprocs(4);\n",
    "using Compat,GraphViz,Mamba,RDatasets"
   ]
  },
  {
   "cell_type": "code",
   "execution_count": 2,
   "metadata": {
    "collapsed": false
   },
   "outputs": [
    {
     "name": "stdout",
     "output_type": "stream",
     "text": [
      "DataFrame  30 observations of 2 variables\n",
      "  Batch: PooledDataArray{ASCIIString,Uint8,1}(30) ASCIIString[\"A\",\"A\",\"A\",\"A\"]\n",
      "  Yield: DataArray{Int32,1}(30) Int32[1545,1440,1440,1520]\n"
     ]
    }
   ],
   "source": [
    "ds = dataset(\"lme4\",\"Dyestuff\");\n",
    "dump(ds)"
   ]
  },
  {
   "cell_type": "markdown",
   "metadata": {},
   "source": [
    "Create a `Dict{Symbol,Any}` containing the response and the indicator of the groups"
   ]
  },
  {
   "cell_type": "code",
   "execution_count": 11,
   "metadata": {
    "collapsed": false
   },
   "outputs": [
    {
     "data": {
      "text/plain": [
       "1-element Array{Float64,1}:\n",
       " 45825.0"
      ]
     },
     "execution_count": 11,
     "metadata": {},
     "output_type": "execute_result"
    }
   ],
   "source": [
    "dsdat = @compat Dict{Symbol,Any}(\n",
    "  :y => convert(Vector{Float64},array(ds[:Yield])),\n",
    "  :Zt => StatsBase.indicatormat(ds[:Batch]),\n",
    "  :X => ones(30,1)\n",
    ")\n",
    "dsdat[:Zty] = dsdat[:Zt] * dsdat[:y]\n",
    "dsdat[:Xty] = dsdat[:X]'dsdat[:y]"
   ]
  },
  {
   "cell_type": "code",
   "execution_count": 12,
   "metadata": {
    "collapsed": false
   },
   "outputs": [
    {
     "data": {
      "text/plain": [
       "1527.5"
      ]
     },
     "execution_count": 12,
     "metadata": {},
     "output_type": "execute_result"
    }
   ],
   "source": [
    "b = randn(6)\n",
    "β = mean(dsdat[:y])"
   ]
  },
  {
   "cell_type": "code",
   "execution_count": 13,
   "metadata": {
    "collapsed": false
   },
   "outputs": [
    {
     "data": {
      "text/plain": [
       "30x1 Array{Float64,2}:\n",
       " 1528.42\n",
       " 1528.42\n",
       " 1528.42\n",
       " 1528.42\n",
       " 1528.42\n",
       " 1526.91\n",
       " 1526.91\n",
       " 1526.91\n",
       " 1526.91\n",
       " 1526.91\n",
       " 1527.3 \n",
       " 1527.3 \n",
       " 1527.3 \n",
       "    ⋮   \n",
       " 1526.14\n",
       " 1526.14\n",
       " 1529.72\n",
       " 1529.72\n",
       " 1529.72\n",
       " 1529.72\n",
       " 1529.72\n",
       " 1526.91\n",
       " 1526.91\n",
       " 1526.91\n",
       " 1526.91\n",
       " 1526.91"
      ]
     },
     "execution_count": 13,
     "metadata": {},
     "output_type": "execute_result"
    }
   ],
   "source": [
    "dsdat[:X]*β + dsdat[:Zt]'b"
   ]
  },
  {
   "cell_type": "code",
   "execution_count": 32,
   "metadata": {
    "collapsed": false
   },
   "outputs": [],
   "source": [
    "dsmod = Model(\n",
    "  μ = Logical(1, @modelexpr(β,b,X,Zt,vec(X*β+Zt'b)), false),\n",
    "  y = Stochastic(1, @modelexpr(μ,logσ,MvNormal(μ,exp(logσ))),false),\n",
    "  logσ = Stochastic(1, :(Flat()), true),\n",
    "  logσb = Stochastic(1, :(InverseGamma(0.001,0.001)), true),\n",
    "  β = Stochastic(1, :(Flat()), true),\n",
    "  b = Stochastic(1,@modelexpr(logσb,MvNormal(fill(6,exp(logσb)))),true)\n",
    ");"
   ]
  },
  {
   "cell_type": "code",
   "execution_count": 33,
   "metadata": {
    "collapsed": false
   },
   "outputs": [],
   "source": [
    "draw(dsmod,filename=\"foo.dot\");"
   ]
  },
  {
   "cell_type": "code",
   "execution_count": 34,
   "metadata": {
    "collapsed": false
   },
   "outputs": [
    {
     "data": {
      "image/png": "[encoded data removed]",
      "image/svg+xml": [
       "<?xml version=\"1.0\" encoding=\"UTF-8\" standalone=\"no\"?>\n",
       "<!DOCTYPE svg PUBLIC \"-//W3C//DTD SVG 1.1//EN\"\n",
       " \"http://www.w3.org/Graphics/SVG/1.1/DTD/svg11.dtd\">\n",
       "<!-- Generated by graphviz version 2.36.0 (20140111.2315)\n",
       " -->\n",
       "<!-- Title: MambaModel Pages: 1 -->\n",
       "<svg width=\"265pt\" height=\"303pt\"\n",
       " viewBox=\"0.00 0.00 264.94 303.36\" xmlns=\"http://www.w3.org/2000/svg\" xmlns:xlink=\"http://www.w3.org/1999/xlink\">\n",
       "<g id=\"graph0\" class=\"graph\" transform=\"scale(1 1) rotate(0) translate(4 299.356)\">\n",
       "<title>MambaModel</title>\n",
       "<polygon fill=\"white\" stroke=\"none\" points=\"-4,4 -4,-299.356 260.938,-299.356 260.938,4 -4,4\"/>\n",
       "<!-- b -->\n",
       "<g id=\"node1\" class=\"node\"><title>b</title>\n",
       "<ellipse fill=\"none\" stroke=\"black\" cx=\"85.8752\" cy=\"-70.6224\" rx=\"27\" ry=\"18\"/>\n",
       "<text text-anchor=\"middle\" x=\"85.8752\" y=\"-66.9224\" font-family=\"Times,serif\" font-size=\"14.00\">b</text>\n",
       "</g>\n",
       "<!-- μ -->\n",
       "<g id=\"node2\" class=\"node\"><title>μ</title>\n",
       "<polygon fill=\"#d9d9d9\" stroke=\"black\" points=\"148.022,-142.752 121.022,-124.752 148.022,-106.752 175.022,-124.752 148.022,-142.752\"/>\n",
       "<text text-anchor=\"middle\" x=\"148.022\" y=\"-121.052\" font-family=\"Times,serif\" font-size=\"14.00\">μ</text>\n",
       "</g>\n",
       "<!-- b&#45;&gt;μ -->\n",
       "<g id=\"edge1\" class=\"edge\"><title>b&#45;&gt;μ</title>\n",
       "<path fill=\"none\" stroke=\"black\" d=\"M102.529,-85.1283C110.511,-92.0805 120.124,-100.453 128.453,-107.708\"/>\n",
       "<polygon fill=\"black\" stroke=\"black\" points=\"126.406,-110.567 136.246,-114.495 131.004,-105.288 126.406,-110.567\"/>\n",
       "</g>\n",
       "<!-- y -->\n",
       "<g id=\"node5\" class=\"node\"><title>y</title>\n",
       "<ellipse fill=\"#d9d9d9\" stroke=\"black\" cx=\"171.841\" cy=\"-203.566\" rx=\"27\" ry=\"18\"/>\n",
       "<text text-anchor=\"middle\" x=\"171.841\" y=\"-199.866\" font-family=\"Times,serif\" font-size=\"14.00\">y</text>\n",
       "</g>\n",
       "<!-- μ&#45;&gt;y -->\n",
       "<g id=\"edge5\" class=\"edge\"><title>μ&#45;&gt;y</title>\n",
       "<path fill=\"none\" stroke=\"black\" d=\"M152.614,-139.949C155.698,-150.153 159.851,-163.893 163.508,-175.993\"/>\n",
       "<polygon fill=\"black\" stroke=\"black\" points=\"160.185,-177.098 166.428,-185.658 166.886,-175.073 160.185,-177.098\"/>\n",
       "</g>\n",
       "<!-- logσb -->\n",
       "<g id=\"node3\" class=\"node\"><title>logσb</title>\n",
       "<ellipse fill=\"none\" stroke=\"black\" cx=\"31.1972\" cy=\"-18\" rx=\"31.3957\" ry=\"18\"/>\n",
       "<text text-anchor=\"middle\" x=\"31.1972\" y=\"-14.3\" font-family=\"Times,serif\" font-size=\"14.00\">logσb</text>\n",
       "</g>\n",
       "<!-- logσb&#45;&gt;b -->\n",
       "<g id=\"edge2\" class=\"edge\"><title>logσb&#45;&gt;b</title>\n",
       "<path fill=\"none\" stroke=\"black\" d=\"M47.3067,-33.5038C52.2169,-38.2295 57.7122,-43.5181 62.981,-48.5889\"/>\n",
       "<polygon fill=\"black\" stroke=\"black\" points=\"60.8119,-51.3589 70.4441,-55.7715 65.6659,-46.3153 60.8119,-51.3589\"/>\n",
       "</g>\n",
       "<!-- logσ -->\n",
       "<g id=\"node4\" class=\"node\"><title>logσ</title>\n",
       "<ellipse fill=\"none\" stroke=\"black\" cx=\"189.597\" cy=\"-277.356\" rx=\"27\" ry=\"18\"/>\n",
       "<text text-anchor=\"middle\" x=\"189.597\" y=\"-273.656\" font-family=\"Times,serif\" font-size=\"14.00\">logσ</text>\n",
       "</g>\n",
       "<!-- logσ&#45;&gt;y -->\n",
       "<g id=\"edge3\" class=\"edge\"><title>logσ&#45;&gt;y</title>\n",
       "<path fill=\"none\" stroke=\"black\" d=\"M185.299,-259.493C183.263,-251.036 180.786,-240.742 178.515,-231.301\"/>\n",
       "<polygon fill=\"black\" stroke=\"black\" points=\"181.903,-230.423 176.161,-221.52 175.098,-232.061 181.903,-230.423\"/>\n",
       "</g>\n",
       "<!-- β -->\n",
       "<g id=\"node6\" class=\"node\"><title>β</title>\n",
       "<ellipse fill=\"none\" stroke=\"black\" cx=\"79.111\" cy=\"-168.657\" rx=\"27\" ry=\"18\"/>\n",
       "<text text-anchor=\"middle\" x=\"79.111\" y=\"-164.957\" font-family=\"Times,serif\" font-size=\"14.00\">β</text>\n",
       "</g>\n",
       "<!-- β&#45;&gt;μ -->\n",
       "<g id=\"edge4\" class=\"edge\"><title>β&#45;&gt;μ</title>\n",
       "<path fill=\"none\" stroke=\"black\" d=\"M98.6738,-156.193C107.061,-150.849 116.906,-144.577 125.587,-139.046\"/>\n",
       "<polygon fill=\"black\" stroke=\"black\" points=\"127.55,-141.946 134.103,-133.621 123.788,-136.042 127.55,-141.946\"/>\n",
       "</g>\n",
       "<!-- X -->\n",
       "<g id=\"node7\" class=\"node\"><title>X</title>\n",
       "<polygon fill=\"#d9d9d9\" stroke=\"black\" points=\"214.083,-70.8191 160.083,-70.8191 160.083,-34.8191 214.083,-34.8191 214.083,-70.8191\"/>\n",
       "<text text-anchor=\"middle\" x=\"187.083\" y=\"-49.1191\" font-family=\"Times,serif\" font-size=\"14.00\">X</text>\n",
       "</g>\n",
       "<!-- X&#45;&gt;μ -->\n",
       "<g id=\"edge6\" class=\"edge\"><title>X&#45;&gt;μ</title>\n",
       "<path fill=\"none\" stroke=\"black\" d=\"M177.226,-70.9709C172.088,-80.4331 165.755,-92.096 160.301,-102.14\"/>\n",
       "<polygon fill=\"black\" stroke=\"black\" points=\"157.105,-100.69 155.409,-111.148 163.257,-104.031 157.105,-100.69\"/>\n",
       "</g>\n",
       "<!-- Zt -->\n",
       "<g id=\"node8\" class=\"node\"><title>Zt</title>\n",
       "<polygon fill=\"#d9d9d9\" stroke=\"black\" points=\"256.938,-137.327 202.938,-137.327 202.938,-101.327 256.938,-101.327 256.938,-137.327\"/>\n",
       "<text text-anchor=\"middle\" x=\"229.938\" y=\"-115.627\" font-family=\"Times,serif\" font-size=\"14.00\">Zt</text>\n",
       "</g>\n",
       "<!-- Zt&#45;&gt;μ -->\n",
       "<g id=\"edge7\" class=\"edge\"><title>Zt&#45;&gt;μ</title>\n",
       "<path fill=\"none\" stroke=\"black\" d=\"M202.661,-121.134C196.308,-121.555 189.459,-122.008 182.83,-122.447\"/>\n",
       "<polygon fill=\"black\" stroke=\"black\" points=\"182.443,-118.965 172.697,-123.118 182.906,-125.95 182.443,-118.965\"/>\n",
       "</g>\n",
       "</g>\n",
       "</svg>\n"
      ],
      "text/plain": [
       "Graph(Ptr{Void} @0x000000000b2a4c80,false)"
      ]
     },
     "execution_count": 34,
     "metadata": {},
     "output_type": "execute_result"
    }
   ],
   "source": [
    "open(\"foo.dot\",\"r\") do io Graph(io) end"
   ]
  },
  {
   "cell_type": "code",
   "execution_count": 39,
   "metadata": {
    "collapsed": false
   },
   "outputs": [],
   "source": [
    "Gibbs_b = Sampler([:b],\n",
    "@modelexpr(b,β,y,Zt,X,logσ,logσb,\n",
    "begin\n",
    "    I = eye(size(Zt,1))\n",
    "    Λ = exp(logσb - logσ)*I\n",
    "    ΛtZt = Λ'Zt\n",
    "    L = cholfact(ΛtZt*ΛtZt' + I)\n",
    "    rand(MvNormal(vec(L\\(ΛtZt*(y-X*β)))))\n",
    "end));    "
   ]
  }
 ],
 "metadata": {
  "kernelspec": {
   "display_name": "Julia 0.3.6",
   "language": "julia",
   "name": "julia 0.3"
  },
  "language_info": {
   "name": "julia",
   "version": "0.3.6"
  }
 },
 "nbformat": 4,
 "nbformat_minor": 0
}
