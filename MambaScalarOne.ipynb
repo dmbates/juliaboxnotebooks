{
 "cells": [
  {
   "cell_type": "markdown",
   "metadata": {},
   "source": [
    "# Mamba MCMC for an LMM with one simple, scalar term"
   ]
  },
  {
   "cell_type": "code",
   "execution_count": 2,
   "metadata": {
    "collapsed": false
   },
   "outputs": [
    {
     "name": "stderr",
     "output_type": "stream",
     "text": [
      "INFO: Updating METADATA...\n",
      "INFO: Updating Interact...\n",
      "INFO: Updating JuliaBox...\n",
      "INFO: Updating Homework...\n",
      "INFO: Computing changes...\n",
      "INFO: No packages to install, update or remove\n",
      "exception on 1: ERROR: opening file /home/juser/.julia/v0.3/Mamba/src/../usr/addons.jl: No such file or directory\n",
      " in open at ./iostream.jl:117\n",
      " in open at ./iostream.jl:135\n",
      " in readall at io.jl:247\n",
      " in anonymous at multi.jl:855\n",
      " in run_work_thunk at multi.jl:621\n",
      " in anonymous at task.jl:855\n",
      "exception on 1: ERROR: opening file /home/juser/.julia/v0.3/Mamba/src/../usr/addons.jl: No such file or directory\n",
      " in open at ./iostream.jl:117\n",
      " in open at ./iostream.jl:135\n",
      " in readall at io.jl:247\n",
      " in anonymous at multi.jl:855\n",
      " in run_work_thunk at multi.jl:621\n",
      " in anonymous at task.jl:855\n",
      "exception on 1: ERROR: opening file /home/juser/.julia/v0.3/Mamba/src/../usr/addons.jl: No such file or directory\n",
      " in open at ./iostream.jl:117\n",
      " in open at ./iostream.jl:135\n",
      " in readall at io.jl:247\n",
      " in anonymous at multi.jl:855\n",
      " in run_work_thunk at multi.jl:621\n",
      " in anonymous at task.jl:855\n",
      "exception on 1: ERROR: opening file /home/juser/.julia/v0.3/Mamba/src/../usr/addons.jl: No such file or directory\n",
      " in open at ./iostream.jl:117\n",
      " in open at ./iostream.jl:135\n",
      " in readall at io.jl:247\n",
      " in anonymous at multi.jl:855\n",
      " in run_work_thunk at multi.jl:621\n",
      " in anonymous at task.jl:855\n"
     ]
    }
   ],
   "source": [
    "addprocs(4);\n",
    "Pkg.update();\n",
    "using Compat,Mamba,RDatasets"
   ]
  },
  {
   "cell_type": "code",
   "execution_count": 3,
   "metadata": {
    "collapsed": false
   },
   "outputs": [
    {
     "name": "stdout",
     "output_type": "stream",
     "text": [
      "DataFrame  30 observations of 2 variables\n",
      "  Batch: PooledDataArray{ASCIIString,Uint8,1}(30) ASCIIString[\"A\",\"A\",\"A\",\"A\"]\n",
      "  Yield: DataArray{Int32,1}(30) Int32[1545,1440,1440,1520]\n"
     ]
    }
   ],
   "source": [
    "ds = dataset(\"lme4\",\"Dyestuff\");\n",
    "dump(ds)"
   ]
  },
  {
   "cell_type": "markdown",
   "metadata": {},
   "source": [
    "Create a `Dict{Symbol,Any}` containing the response and the indicator of the groups"
   ]
  },
  {
   "cell_type": "code",
   "execution_count": 37,
   "metadata": {
    "collapsed": false
   },
   "outputs": [
    {
     "data": {
      "text/plain": [
       "Dict{Symbol,Any} with 5 entries:\n",
       "  :K    => [6]\n",
       "  :Z    => […\n",
       "  :X    => [1.0…\n",
       "  :facs => {Uint8[1,1,1,1,1,2,2,2,2,2,3,3,3,3,3,4,4,4,4,4,5,5,5,5,5,6,6,6,6,6]}\n",
       "  :y    => [1545.0,1440.0,1440.0,1520.0,1580.0,1540.0,1555.0,1490.0,1560.0,1495.…"
      ]
     },
     "execution_count": 37,
     "metadata": {},
     "output_type": "execute_result"
    }
   ],
   "source": [
    "dsdat = @compat Dict{Symbol,Any}(\n",
    ":y => convert(Vector{Float64},array(ds[:Yield])),\n",
    ":facs => [ds[:Batch].refs for i in 1:1],\n",
    "  :K => [6],\n",
    "  :X => ones(30,1),\n",
    ":Z => [ones(30,1) for i in 1:1]\n",
    ")"
   ]
  },
  {
   "cell_type": "code",
   "execution_count": 26,
   "metadata": {
    "collapsed": false
   },
   "outputs": [
    {
     "data": {
      "text/plain": [
       "30-element Array{Uint8,1}:\n",
       " 0x01\n",
       " 0x01\n",
       " 0x01\n",
       " 0x01\n",
       " 0x01\n",
       " 0x02\n",
       " 0x02\n",
       " 0x02\n",
       " 0x02\n",
       " 0x02\n",
       " 0x03\n",
       " 0x03\n",
       " 0x03\n",
       "    ⋮\n",
       " 0x04\n",
       " 0x04\n",
       " 0x05\n",
       " 0x05\n",
       " 0x05\n",
       " 0x05\n",
       " 0x05\n",
       " 0x06\n",
       " 0x06\n",
       " 0x06\n",
       " 0x06\n",
       " 0x06"
      ]
     },
     "execution_count": 26,
     "metadata": {},
     "output_type": "execute_result"
    }
   ],
   "source": [
    "dsdat[:facs][1]"
   ]
  },
  {
   "cell_type": "code",
   "execution_count": 27,
   "metadata": {
    "collapsed": false
   },
   "outputs": [
    {
     "data": {
      "text/plain": [
       "1527.5"
      ]
     },
     "execution_count": 27,
     "metadata": {},
     "output_type": "execute_result"
    }
   ],
   "source": [
    "b = randn(6)\n",
    "β = mean(dsdat[:y])"
   ]
  },
  {
   "cell_type": "code",
   "execution_count": 38,
   "metadata": {
    "collapsed": false
   },
   "outputs": [
    {
     "data": {
      "text/plain": [
       "30x1 Array{Float64,2}:\n",
       " 1529.11\n",
       " 1529.11\n",
       " 1529.11\n",
       " 1529.11\n",
       " 1529.11\n",
       " 1526.9 \n",
       " 1526.9 \n",
       " 1526.9 \n",
       " 1526.9 \n",
       " 1526.9 \n",
       " 1527.99\n",
       " 1527.99\n",
       " 1527.99\n",
       "    ⋮   \n",
       " 1529.79\n",
       " 1529.79\n",
       " 1526.42\n",
       " 1526.42\n",
       " 1526.42\n",
       " 1526.42\n",
       " 1526.42\n",
       " 1528.57\n",
       " 1528.57\n",
       " 1528.57\n",
       " 1528.57\n",
       " 1528.57"
      ]
     },
     "execution_count": 38,
     "metadata": {},
     "output_type": "execute_result"
    }
   ],
   "source": [
    "dsdat[:X]*β + b[dsdat[:facs][1]] .* dsdat[:Z][1]"
   ]
  },
  {
   "cell_type": "code",
   "execution_count": 32,
   "metadata": {
    "collapsed": false
   },
   "outputs": [
    {
     "data": {
      "text/plain": [
       "1x30 Array{Float64,2}:\n",
       " 1.0  1.0  1.0  1.0  1.0  1.0  1.0  1.0  …  1.0  1.0  1.0  1.0  1.0  1.0  1.0"
      ]
     },
     "execution_count": 32,
     "metadata": {},
     "output_type": "execute_result"
    }
   ],
   "source": [
    "dsdat[:Zt][1] .*"
   ]
  },
  {
   "cell_type": "code",
   "execution_count": 40,
   "metadata": {
    "collapsed": false
   },
   "outputs": [],
   "source": [
    "dsmod = Model(\n",
    "y = Stochastic(1, @modelexpr(μ,σ,MvNormal(μ,σ)),false),\n",
    "σ = Logical(1, @modelexpr(exp(logσ)),false),\n",
    "μ = Logical(1, @modelexpr(β,b,X,Z,facs,vec(X*β+b[:facs[1]] .* Z[1])), false)\n",
    ");\n"
   ]
  }
 ],
 "metadata": {
  "kernelspec": {
   "display_name": "Julia 0.3.6",
   "language": "julia",
   "name": "julia 0.3"
  },
  "language_info": {
   "name": "julia",
   "version": "0.3.6"
  }
 },
 "nbformat": 4,
 "nbformat_minor": 0
}
