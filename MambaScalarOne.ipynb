{
 "cells": [
  {
   "cell_type": "markdown",
   "metadata": {},
   "source": [
    "# Mamba MCMC for an LMM with one simple, scalar term"
   ]
  },
  {
   "cell_type": "code",
   "execution_count": 1,
   "metadata": {
    "collapsed": false
   },
   "outputs": [
    {
     "name": "stderr",
     "output_type": "stream",
     "text": [
      "INFO: Updating METADATA...\n",
      "INFO: Updating cache of TimeSeries...\n",
      "INFO: Updating cache of ArrayViews...\n",
      "INFO: Updating cache of BinDeps...\n",
      "INFO: Updating cache of MathProgBase...\n",
      "INFO: Updating cache of Compat...\n",
      "INFO: Updating cache of Distributions...\n",
      "INFO: Updating cache of Images...\n",
      "INFO: Updating cache of Winston...\n",
      "INFO: Updating cache of SymPy...\n",
      "INFO: Updating cache of Docile...\n",
      "INFO: Updating cache of Cairo...\n",
      "INFO: Updating cache of GZip...\n",
      "INFO: Updating cache of FactCheck...\n"
     ]
    }
   ],
   "source": [
    "addprocs(4);\n",
    "Pkg.update();\n",
    "using Compat,GraphViz,Mamba,RDatasets"
   ]
  },
  {
   "cell_type": "code",
   "execution_count": 2,
   "metadata": {
    "collapsed": false
   },
   "outputs": [
    {
     "name": "stdout",
     "output_type": "stream",
     "text": [
      "DataFrame  30 observations of 2 variables\n",
      "  Batch: PooledDataArray{ASCIIString,Uint8,1}(30) ASCIIString[\"A\",\"A\",\"A\",\"A\"]\n",
      "  Yield: DataArray{Int32,1}(30) Int32[1545,1440,1440,1520]\n"
     ]
    }
   ],
   "source": [
    "ds = dataset(\"lme4\",\"Dyestuff\");\n",
    "dump(ds)"
   ]
  },
  {
   "cell_type": "markdown",
   "metadata": {},
   "source": [
    "Create a `Dict{Symbol,Any}` containing the response and the indicator of the groups"
   ]
  },
  {
   "cell_type": "code",
   "execution_count": 3,
   "metadata": {
    "collapsed": false
   },
   "outputs": [
    {
     "data": {
      "text/plain": [
       "Dict{Symbol,Any} with 5 entries:\n",
       "  :K    => [6]\n",
       "  :Z    => […\n",
       "  :X    => [1.0…\n",
       "  :facs => {Uint8[1,1,1,1,1,2,2,2,2,2,3,3,3,3,3,4,4,4,4,4,5,5,5,5,5,6,6,6,6,6]}\n",
       "  :y    => [1545.0,1440.0,1440.0,1520.0,1580.0,1540.0,1555.0,1490.0,1560.0,1495.…"
      ]
     },
     "execution_count": 3,
     "metadata": {},
     "output_type": "execute_result"
    }
   ],
   "source": [
    "dsdat = @compat Dict{Symbol,Any}(\n",
    ":y => convert(Vector{Float64},array(ds[:Yield])),\n",
    ":facs => [ds[:Batch].refs for i in 1:1],\n",
    "  :K => [6],\n",
    "  :X => ones(30,1),\n",
    ":Z => [ones(30,1) for i in 1:1]\n",
    ")"
   ]
  },
  {
   "cell_type": "code",
   "execution_count": 4,
   "metadata": {
    "collapsed": false
   },
   "outputs": [
    {
     "data": {
      "text/plain": [
       "1527.5"
      ]
     },
     "execution_count": 4,
     "metadata": {},
     "output_type": "execute_result"
    }
   ],
   "source": [
    "b = randn(6)\n",
    "β = mean(dsdat[:y])"
   ]
  },
  {
   "cell_type": "code",
   "execution_count": 5,
   "metadata": {
    "collapsed": false
   },
   "outputs": [
    {
     "data": {
      "text/plain": [
       "30x1 Array{Float64,2}:\n",
       " 1527.33\n",
       " 1527.33\n",
       " 1527.33\n",
       " 1527.33\n",
       " 1527.33\n",
       " 1525.38\n",
       " 1525.38\n",
       " 1525.38\n",
       " 1525.38\n",
       " 1525.38\n",
       " 1528.61\n",
       " 1528.61\n",
       " 1528.61\n",
       "    ⋮   \n",
       " 1528.1 \n",
       " 1528.1 \n",
       " 1528.84\n",
       " 1528.84\n",
       " 1528.84\n",
       " 1528.84\n",
       " 1528.84\n",
       " 1528.19\n",
       " 1528.19\n",
       " 1528.19\n",
       " 1528.19\n",
       " 1528.19"
      ]
     },
     "execution_count": 5,
     "metadata": {},
     "output_type": "execute_result"
    }
   ],
   "source": [
    "dsdat[:X]*β + b[dsdat[:facs][1]] .* dsdat[:Z][1]"
   ]
  },
  {
   "cell_type": "code",
   "execution_count": 16,
   "metadata": {
    "collapsed": false
   },
   "outputs": [],
   "source": [
    "dsmod = Model(\n",
    "y = Stochastic(1, @modelexpr(μ,σ,MvNormal(μ,σ)),false),\n",
    "σ = Logical(1, @modelexpr(logσ,exp(logσ)),true),\n",
    "μ = Logical(1, @modelexpr(β,b,X,Z,facs,vec(X*β+b[:facs[1]] .* Z[1])), false)\n",
    ");"
   ]
  },
  {
   "cell_type": "code",
   "execution_count": 17,
   "metadata": {
    "collapsed": false
   },
   "outputs": [],
   "source": [
    "draw(dsmod,filename=\"foo.dot\");"
   ]
  },
  {
   "cell_type": "code",
   "execution_count": 18,
   "metadata": {
    "collapsed": false
   },
   "outputs": [
    {
     "data": {
      "image/png": "[encoded data removed]",
      "image/svg+xml": [
       "<?xml version=\"1.0\" encoding=\"UTF-8\" standalone=\"no\"?>\n",
       "<!DOCTYPE svg PUBLIC \"-//W3C//DTD SVG 1.1//EN\"\n",
       " \"http://www.w3.org/Graphics/SVG/1.1/DTD/svg11.dtd\">\n",
       "<!-- Generated by graphviz version 2.36.0 (20140111.2315)\n",
       " -->\n",
       "<!-- Title: MambaModel Pages: 1 -->\n",
       "<svg width=\"318pt\" height=\"280pt\"\n",
       " viewBox=\"0.00 0.00 318.37 279.62\" xmlns=\"http://www.w3.org/2000/svg\" xmlns:xlink=\"http://www.w3.org/1999/xlink\">\n",
       "<g id=\"graph0\" class=\"graph\" transform=\"scale(1 1) rotate(0) translate(4 275.621)\">\n",
       "<title>MambaModel</title>\n",
       "<polygon fill=\"white\" stroke=\"none\" points=\"-4,4 -4,-275.621 314.372,-275.621 314.372,4 -4,4\"/>\n",
       "<!-- μ -->\n",
       "<g id=\"node1\" class=\"node\"><title>μ</title>\n",
       "<polygon fill=\"#d9d9d9\" stroke=\"black\" points=\"106.574,-188.273 79.5742,-170.273 106.574,-152.273 133.574,-170.273 106.574,-188.273\"/>\n",
       "<text text-anchor=\"middle\" x=\"106.574\" y=\"-166.573\" font-family=\"Times,serif\" font-size=\"14.00\">μ</text>\n",
       "</g>\n",
       "<!-- y -->\n",
       "<g id=\"node2\" class=\"node\"><title>y</title>\n",
       "<ellipse fill=\"#d9d9d9\" stroke=\"black\" cx=\"174\" cy=\"-120.278\" rx=\"27\" ry=\"18\"/>\n",
       "<text text-anchor=\"middle\" x=\"174\" y=\"-116.578\" font-family=\"Times,serif\" font-size=\"14.00\">y</text>\n",
       "</g>\n",
       "<!-- μ&#45;&gt;y -->\n",
       "<g id=\"edge1\" class=\"edge\"><title>μ&#45;&gt;y</title>\n",
       "<path fill=\"none\" stroke=\"black\" d=\"M119.575,-160.634C127.566,-154.708 138.093,-146.903 147.757,-139.737\"/>\n",
       "<polygon fill=\"black\" stroke=\"black\" points=\"149.994,-142.435 155.943,-133.668 145.825,-136.812 149.994,-142.435\"/>\n",
       "</g>\n",
       "<!-- β -->\n",
       "<g id=\"node3\" class=\"node\"><title>β</title>\n",
       "<polygon fill=\"#d9d9d9\" stroke=\"black\" points=\"103.829,-111.802 49.8293,-111.802 49.8293,-75.8016 103.829,-75.8016 103.829,-111.802\"/>\n",
       "<text text-anchor=\"middle\" x=\"76.8293\" y=\"-90.1016\" font-family=\"Times,serif\" font-size=\"14.00\">β</text>\n",
       "</g>\n",
       "<!-- β&#45;&gt;μ -->\n",
       "<g id=\"edge2\" class=\"edge\"><title>β&#45;&gt;μ</title>\n",
       "<path fill=\"none\" stroke=\"black\" d=\"M83.8785,-111.924C87.877,-122.204 92.9303,-135.196 97.2531,-146.309\"/>\n",
       "<polygon fill=\"black\" stroke=\"black\" points=\"94.0793,-147.805 100.966,-155.856 100.603,-145.267 94.0793,-147.805\"/>\n",
       "</g>\n",
       "<!-- b -->\n",
       "<g id=\"node4\" class=\"node\"><title>b</title>\n",
       "<polygon fill=\"#d9d9d9\" stroke=\"black\" points=\"67.4361,-236.992 13.4361,-236.992 13.4361,-200.992 67.4361,-200.992 67.4361,-236.992\"/>\n",
       "<text text-anchor=\"middle\" x=\"40.4361\" y=\"-215.292\" font-family=\"Times,serif\" font-size=\"14.00\">b</text>\n",
       "</g>\n",
       "<!-- b&#45;&gt;μ -->\n",
       "<g id=\"edge3\" class=\"edge\"><title>b&#45;&gt;μ</title>\n",
       "<path fill=\"none\" stroke=\"black\" d=\"M65.0635,-200.851C71.7294,-195.941 78.8857,-190.669 85.3471,-185.909\"/>\n",
       "<polygon fill=\"black\" stroke=\"black\" points=\"87.6403,-188.567 93.6159,-179.818 83.4887,-182.931 87.6403,-188.567\"/>\n",
       "</g>\n",
       "<!-- X -->\n",
       "<g id=\"node5\" class=\"node\"><title>X</title>\n",
       "<polygon fill=\"#d9d9d9\" stroke=\"black\" points=\"198.708,-238.801 144.708,-238.801 144.708,-202.801 198.708,-202.801 198.708,-238.801\"/>\n",
       "<text text-anchor=\"middle\" x=\"171.708\" y=\"-217.101\" font-family=\"Times,serif\" font-size=\"14.00\">X</text>\n",
       "</g>\n",
       "<!-- X&#45;&gt;μ -->\n",
       "<g id=\"edge4\" class=\"edge\"><title>X&#45;&gt;μ</title>\n",
       "<path fill=\"none\" stroke=\"black\" d=\"M148.193,-202.56C141.327,-197.233 133.877,-191.454 127.204,-186.277\"/>\n",
       "<polygon fill=\"black\" stroke=\"black\" points=\"129.315,-183.484 119.268,-180.12 125.024,-189.015 129.315,-183.484\"/>\n",
       "</g>\n",
       "<!-- Z -->\n",
       "<g id=\"node6\" class=\"node\"><title>Z</title>\n",
       "<polygon fill=\"#d9d9d9\" stroke=\"black\" points=\"135.05,-271.621 81.0498,-271.621 81.0498,-235.621 135.05,-235.621 135.05,-271.621\"/>\n",
       "<text text-anchor=\"middle\" x=\"108.05\" y=\"-249.921\" font-family=\"Times,serif\" font-size=\"14.00\">Z</text>\n",
       "</g>\n",
       "<!-- Z&#45;&gt;μ -->\n",
       "<g id=\"edge5\" class=\"edge\"><title>Z&#45;&gt;μ</title>\n",
       "<path fill=\"none\" stroke=\"black\" d=\"M107.73,-235.535C107.538,-224.723 107.291,-210.751 107.074,-198.511\"/>\n",
       "<polygon fill=\"black\" stroke=\"black\" points=\"110.57,-198.259 106.894,-188.323 103.571,-198.383 110.57,-198.259\"/>\n",
       "</g>\n",
       "<!-- facs -->\n",
       "<g id=\"node7\" class=\"node\"><title>facs</title>\n",
       "<polygon fill=\"#d9d9d9\" stroke=\"black\" points=\"54,-162.536 0,-162.536 0,-126.536 54,-126.536 54,-162.536\"/>\n",
       "<text text-anchor=\"middle\" x=\"27\" y=\"-140.836\" font-family=\"Times,serif\" font-size=\"14.00\">facs</text>\n",
       "</g>\n",
       "<!-- facs&#45;&gt;μ -->\n",
       "<g id=\"edge6\" class=\"edge\"><title>facs&#45;&gt;μ</title>\n",
       "<path fill=\"none\" stroke=\"black\" d=\"M54.3849,-153.393C62.1372,-155.901 70.5875,-158.634 78.3862,-161.156\"/>\n",
       "<polygon fill=\"black\" stroke=\"black\" points=\"77.5578,-164.567 88.1496,-164.314 79.712,-157.906 77.5578,-164.567\"/>\n",
       "</g>\n",
       "<!-- σ -->\n",
       "<g id=\"node8\" class=\"node\"><title>σ</title>\n",
       "<polygon fill=\"none\" stroke=\"black\" points=\"235.713,-92.5469 208.713,-74.5469 235.713,-56.5469 262.713,-74.5469 235.713,-92.5469\"/>\n",
       "<text text-anchor=\"middle\" x=\"235.713\" y=\"-70.8469\" font-family=\"Times,serif\" font-size=\"14.00\">σ</text>\n",
       "</g>\n",
       "<!-- σ&#45;&gt;y -->\n",
       "<g id=\"edge7\" class=\"edge\"><title>σ&#45;&gt;y</title>\n",
       "<path fill=\"none\" stroke=\"black\" d=\"M222.926,-84.0225C216.392,-88.8641 208.19,-94.9424 200.379,-100.731\"/>\n",
       "<polygon fill=\"black\" stroke=\"black\" points=\"198.104,-98.06 192.154,-106.826 202.272,-103.684 198.104,-98.06\"/>\n",
       "</g>\n",
       "<!-- logσ -->\n",
       "<g id=\"node9\" class=\"node\"><title>logσ</title>\n",
       "<polygon fill=\"#d9d9d9\" stroke=\"black\" points=\"310.372,-36 256.372,-36 256.372,-0 310.372,-0 310.372,-36\"/>\n",
       "<text text-anchor=\"middle\" x=\"283.372\" y=\"-14.3\" font-family=\"Times,serif\" font-size=\"14.00\">logσ</text>\n",
       "</g>\n",
       "<!-- logσ&#45;&gt;σ -->\n",
       "<g id=\"edge8\" class=\"edge\"><title>logσ&#45;&gt;σ</title>\n",
       "<path fill=\"none\" stroke=\"black\" d=\"M268.03,-36.2031C262.942,-42.2406 257.259,-48.9828 252.095,-55.1096\"/>\n",
       "<polygon fill=\"black\" stroke=\"black\" points=\"249.248,-53.0568 245.48,-62.9588 254.601,-57.568 249.248,-53.0568\"/>\n",
       "</g>\n",
       "</g>\n",
       "</svg>\n"
      ],
      "text/plain": [
       "Graph(Ptr{Void} @0x000000003b8a5360,false)"
      ]
     },
     "execution_count": 18,
     "metadata": {},
     "output_type": "execute_result"
    }
   ],
   "source": [
    "open(\"foo.dot\",\"r\") do io Graph(io) end"
   ]
  }
 ],
 "metadata": {
  "kernelspec": {
   "display_name": "Julia 0.3.6",
   "language": "julia",
   "name": "julia 0.3"
  },
  "language_info": {
   "name": "julia",
   "version": "0.3.6"
  }
 },
 "nbformat": 4,
 "nbformat_minor": 0
}
