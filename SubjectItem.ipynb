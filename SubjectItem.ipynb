{
 "cells": [
  {
   "cell_type": "markdown",
   "metadata": {},
   "source": [
    "# Simulation of maximal models\n",
    "\n",
    "Here we simulate data from a _zero-correlation-parameter_ model and fit four models to these data.\n",
    "\n",
    "The simulation requires the `DataArrays`,`DataFrames` and `MixedModels` packages. For later extension to a parallel simulation we also restrict the BLAS to using a single thread."
   ]
  },
  {
   "cell_type": "code",
   "execution_count": 1,
   "metadata": {
    "collapsed": false
   },
   "outputs": [],
   "source": [
    "using DataArrays,DataFrames,Distributions,MixedModels\n",
    "blas_set_num_threads(1)"
   ]
  },
  {
   "cell_type": "markdown",
   "metadata": {},
   "source": [
    "The `mkdata` function creates a data frame of the condition, `C`, the subject identifier, `S`, the item identifier, `I` and a place-holder for the response, `y`.  The calls to `pool` create a `PooledDataArray`, which is similar to a `factor` in [R](http://www.R-project.org)."
   ]
  },
  {
   "cell_type": "code",
   "execution_count": 2,
   "metadata": {
    "collapsed": false
   },
   "outputs": [
    {
     "name": "stdout",
     "output_type": "stream",
     "text": [
      "DataFrames.DataFrame  2000 observations of 4 variables\n",
      "  y: DataArrays.DataArray{Float64,1}(2000) [0.0,0.0,0.0,0.0]\n",
      "  C: DataArrays.DataArray{Float64,1}(2000) [-0.5,0.5,-0.5,0.5]\n",
      "  I: DataArrays.PooledDataArray{Int64,UInt8,1}(2000) [1,1,2,2]\n",
      "  S: DataArrays.PooledDataArray{Int64,UInt8,1}(2000) [1,1,1,1]\n"
     ]
    }
   ],
   "source": [
    "\"\"\"\n",
    "Create a DataFrame with crossed grouping factors, `S` and `I`\n",
    "with `M` and `N` levels, respectively.  The condition, `C`,\n",
    "should be a vector of length 2.  The effect of all the `rep` calls\n",
    "is similar to `expand.grid` in R.\n",
    "\"\"\"\n",
    "function mkdata(C::Vector,N,M)\n",
    "    l = length(C)\n",
    "    DataFrame(y = zeros(l*N*M),\n",
    "              C = rep(C,N*M),\n",
    "              I = rep(rep(compact(pool(collect(1:N))),fill(l,N)),M),\n",
    "              S = rep(compact(pool(collect(1:M))),fill(l*N,M)))\n",
    "end\n",
    "\n",
    "const dat = mkdata([-0.5,0.5],20,50);\n",
    "dump(dat)"
   ]
  },
  {
   "cell_type": "markdown",
   "metadata": {},
   "source": [
    "## Creating model objects without fitting them\n",
    "\n",
    "In the `MixedModels` package the `lmm` function creates the model object from a formula/data specification, but does not cause it to be fit.  Applying `fit!` to such an object results in fitting the model.\n",
    "\n",
    "First we create a vector of the five models.  In the simulation loop we will simulate the response, fit the models then extract the statistics of interest.\n",
    "\n",
    "(Here, the `const` designation means that the type won't change, allowing for type inference on global objects.  The actual contents of the model can change.) "
   ]
  },
  {
   "cell_type": "code",
   "execution_count": 3,
   "metadata": {
    "collapsed": false
   },
   "outputs": [],
   "source": [
    "const mm = [lmm(y ~ 1+C + (1+C|S) + (1+C|I), dat),\n",
    "    lmm(y ~ 1+C + (1|S) + (0+C|S) + (1|I) + (0+C|I), dat),\n",
    "    lmm(y ~ 1+C + (1|S) + (0+C|S) + (1|I), dat),\n",
    "    lmm(y ~ 1+C + (1|S) + (1|I) + (0+C|I), dat),\n",
    "    lmm(y ~ 1+C + (1|S) + (1|I), dat)];"
   ]
  },
  {
   "cell_type": "markdown",
   "metadata": {},
   "source": [
    "## Simulate a single response vector and fit the models\n",
    "\n",
    "The `simulate!` function simulates a response from model, optionally specifying the parameter values, and refits the model."
   ]
  },
  {
   "cell_type": "code",
   "execution_count": 4,
   "metadata": {
    "collapsed": false
   },
   "outputs": [
    {
     "data": {
      "text/plain": [
       "Linear mixed model fit by maximum likelihood\n",
       " logLik: -14319.961802, deviance: 28639.923604, AIC: 28649.923604, BIC: 28677.928117\n",
       "\n",
       "Variance components:\n",
       "           Variance  Std.Dev.  \n",
       " S         9613.782  98.049894\n",
       " I        13430.846 115.891526\n",
       " Residual 90557.086 300.927044\n",
       " Number of obs: 2000; levels of grouping factors: 50, 20\n",
       "\n",
       "  Fixed-effects parameters:\n",
       "             Estimate Std.Error   z value\n",
       "(Intercept)   1947.41   30.1512   64.5882\n",
       "C            -1.64719   13.4579 -0.122396\n"
      ]
     },
     "execution_count": 4,
     "metadata": {},
     "output_type": "execute_result"
    }
   ],
   "source": [
    "srand(1234321)\n",
    "simulate!(mm[end];β=[2000.,0.],σ=300.,θ=[1/3,1/3])"
   ]
  },
  {
   "cell_type": "markdown",
   "metadata": {},
   "source": [
    "This is an extremely fast process with very little allocation of memory."
   ]
  },
  {
   "cell_type": "code",
   "execution_count": 5,
   "metadata": {
    "collapsed": false
   },
   "outputs": [
    {
     "name": "stdout",
     "output_type": "stream",
     "text": [
      "  0.004728 seconds (77.83 k allocations: 1.211 MB)\n"
     ]
    }
   ],
   "source": [
    "gc(); srand(1234321); @time simulate!(mm[end];β=[2000.,0.],σ=300.,θ=[1/3,1/3]);"
   ]
  },
  {
   "cell_type": "markdown",
   "metadata": {},
   "source": [
    "Next we fit the other models to this simulated response"
   ]
  },
  {
   "cell_type": "code",
   "execution_count": 6,
   "metadata": {
    "collapsed": false
   },
   "outputs": [],
   "source": [
    "for i in 1:length(mm)-1\n",
    "    refit!(mm[i],model_response(mm[end]))\n",
    "end"
   ]
  },
  {
   "cell_type": "markdown",
   "metadata": {},
   "source": [
    "and extract the deviance."
   ]
  },
  {
   "cell_type": "code",
   "execution_count": 7,
   "metadata": {
    "collapsed": false
   },
   "outputs": [
    {
     "name": "stdout",
     "output_type": "stream",
     "text": [
      "[28639.54709415252,28639.87243125265,28639.923604359417,28639.872431282096,28639.923604358577]"
     ]
    }
   ],
   "source": [
    "devs = map(deviance,mm);\n",
    "show(devs)"
   ]
  },
  {
   "cell_type": "code",
   "execution_count": 8,
   "metadata": {
    "collapsed": false
   },
   "outputs": [
    {
     "name": "stdout",
     "output_type": "stream",
     "text": [
      "[9,7,6,6,5]"
     ]
    }
   ],
   "source": [
    "np = map(npar,mm);\n",
    "show(np)"
   ]
  },
  {
   "cell_type": "markdown",
   "metadata": {},
   "source": [
    "The values of AIC and BIC can be derived from the deviances and the numbers of parameters."
   ]
  },
  {
   "cell_type": "code",
   "execution_count": 9,
   "metadata": {
    "collapsed": false
   },
   "outputs": [
    {
     "name": "stdout",
     "output_type": "stream",
     "text": [
      "[28657.54709415252,28653.87243125265,28651.923604359417,28651.872431282096,28649.923604358577]"
     ]
    }
   ],
   "source": [
    "aic = devs .+ 2np;\n",
    "show(aic)"
   ]
  },
  {
   "cell_type": "code",
   "execution_count": 10,
   "metadata": {
    "collapsed": false
   },
   "outputs": [
    {
     "name": "stdout",
     "output_type": "stream",
     "text": [
      "[28707.9552162884,28693.078748469445,28685.52901911667,28685.47784603935,28677.928116656287]"
     ]
    }
   ],
   "source": [
    "bic = devs .+ log(nobs(mm[1])) * np;\n",
    "show(bic)"
   ]
  },
  {
   "cell_type": "markdown",
   "metadata": {},
   "source": [
    "For this completely balanced data set, the estimates of the fixed-effects parameters are (essentially) constant"
   ]
  },
  {
   "cell_type": "code",
   "execution_count": 11,
   "metadata": {
    "collapsed": false
   },
   "outputs": [
    {
     "data": {
      "text/plain": [
       "5-element Array{Array{Float64,1},1}:\n",
       " [1947.4134048655926,-1.6471877485772273]\n",
       " [1947.413404865672,-1.6471877485736635] \n",
       " [1947.4134048656886,-1.6471877485736643]\n",
       " [1947.413404865657,-1.647187748573664]  \n",
       " [1947.4134048656992,-1.6471877485736643]"
      ]
     },
     "execution_count": 11,
     "metadata": {},
     "output_type": "execute_result"
    }
   ],
   "source": [
    "map(fixef,mm)"
   ]
  },
  {
   "cell_type": "markdown",
   "metadata": {},
   "source": [
    "but the standard errors change"
   ]
  },
  {
   "cell_type": "code",
   "execution_count": 12,
   "metadata": {
    "collapsed": false
   },
   "outputs": [
    {
     "data": {
      "text/plain": [
       "5-element Array{Array{Float64,1},1}:\n",
       " [30.15405395982253,13.940561214940995]\n",
       " [30.152158547174494,13.93955786540863]\n",
       " [30.151404175517662,13.45786587741703]\n",
       " [30.15217319176865,13.93983317686538] \n",
       " [30.15122661693448,13.457866553058672]"
      ]
     },
     "execution_count": 12,
     "metadata": {},
     "output_type": "execute_result"
    }
   ],
   "source": [
    "map(stderr,mm)"
   ]
  },
  {
   "cell_type": "markdown",
   "metadata": {},
   "source": [
    "The p-value for the Wald test of the fixed-effect for slope is"
   ]
  },
  {
   "cell_type": "code",
   "execution_count": 13,
   "metadata": {
    "collapsed": false
   },
   "outputs": [
    {
     "data": {
      "text/plain": [
       "5-element Array{Float64,1}:\n",
       " 0.905943\n",
       " 0.905936\n",
       " 0.902585\n",
       " 0.905938\n",
       " 0.902585"
      ]
     },
     "execution_count": 13,
     "metadata": {},
     "output_type": "execute_result"
    }
   ],
   "source": [
    "map(m->ccdf(Chisq(1),abs2(fixef(m)[2] / stderr(m)[2])),mm)"
   ]
  },
  {
   "cell_type": "markdown",
   "metadata": {},
   "source": [
    "Breaking down the calculation a bit, `ccdf` is the complementary cumulative distribution function (i.e. the probability of exceeding the value).  The p-value for a two-tailed z test is the same as the probability of a $\\chi^2$ distribution on 1 degree of freedom exceeding $z^2$.\n",
    "\n",
    "## Comparing LRT for the slope with the Wald test\n",
    "\n",
    "The Wald test is based on a single model fit.  We would expect that a likelihood ratio test (LRT), based on fitting both the null model and the alternative model, would have better properties.  To perform these tests, we fit the null models and compare the difference in the deviances to a $\\chi^2_1$ distribution."
   ]
  },
  {
   "cell_type": "code",
   "execution_count": 14,
   "metadata": {
    "collapsed": true
   },
   "outputs": [],
   "source": [
    "const nm = [lmm(y ~ 1 + (1+C|S) + (1+C|I), dat),\n",
    "    lmm(y ~ 1 + (1|S) + (0+C|S) + (1|I) + (0+C|I), dat),\n",
    "    lmm(y ~ 1 + (1|S) + (0+C|S) + (1|I), dat),\n",
    "    lmm(y ~ 1 + (1|S) + (1|I) + (0+C|I), dat),\n",
    "    lmm(y ~ 1 + (1|S) + (1|I), dat)];"
   ]
  },
  {
   "cell_type": "code",
   "execution_count": 15,
   "metadata": {
    "collapsed": false
   },
   "outputs": [
    {
     "name": "stdout",
     "output_type": "stream",
     "text": [
      "[28639.56103413647,28639.886389969117,28639.93858507726,28639.886389969393,28639.938585092023]"
     ]
    }
   ],
   "source": [
    "for i in eachindex(nm)\n",
    "    refit!(nm[i],model_response(mm[end]))\n",
    "end\n",
    "ndevs = map(deviance,nm);\n",
    "show(ndevs)"
   ]
  },
  {
   "cell_type": "code",
   "execution_count": 16,
   "metadata": {
    "collapsed": false
   },
   "outputs": [
    {
     "data": {
      "text/plain": [
       "5-element Array{Float64,1}:\n",
       " 0.906014\n",
       " 0.905951\n",
       " 0.902586\n",
       " 0.905951\n",
       " 0.902586"
      ]
     },
     "execution_count": 16,
     "metadata": {},
     "output_type": "execute_result"
    }
   ],
   "source": [
    "ccdf(Chisq(1),ndevs .- devs)"
   ]
  },
  {
   "cell_type": "markdown",
   "metadata": {},
   "source": [
    "The p-values for the Wald test are nearly identical to those of the likelihood ratio test and are somewhat easier to obtain."
   ]
  }
 ],
 "metadata": {
  "kernelspec": {
   "display_name": "Julia 0.4.0",
   "language": "julia",
   "name": "julia-0.4"
  },
  "language_info": {
   "file_extension": ".jl",
   "mimetype": "application/julia",
   "name": "julia",
   "version": "0.4.0"
  }
 },
 "nbformat": 4,
 "nbformat_minor": 0
}
